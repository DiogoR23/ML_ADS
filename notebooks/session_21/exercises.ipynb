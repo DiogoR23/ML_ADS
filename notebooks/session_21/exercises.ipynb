{
 "cells": [
  {
   "cell_type": "markdown",
   "id": "83662e6295674ee7",
   "metadata": {},
   "source": [
    "# Stacking Implementation with Python"
   ]
  },
  {
   "cell_type": "markdown",
   "id": "112fce85b35dc962",
   "metadata": {},
   "source": [
    "Create a function that takes as input an X and an Y, a list of models and a meta-model and trains the models in a stacking ensemble. The function should train the list of models on the training data and then use the predictions of the models as input to the meta-model. The function should return the trained models and the trained meta-model. The function should also have an option to return the predictions of the meta-model on the test data. The function should have the following signature:\n",
    "\n",
    "```python\n",
    "def stacking(X, y, models, meta_model):\n",
    "    # Train the models on the training data\n",
    "    # Use the trained models to make predictions on the test data\n",
    "    # Train the meta-model on the predictions of the models\n",
    "    # Use the trained meta-model to make predictions on the test data\n",
    "    # Return previsões\n",
    "```\n"
   ]
  },
  {
   "cell_type": "code",
   "execution_count": null,
   "id": "ff72e9adf4bdc3c3",
   "metadata": {},
   "outputs": [],
   "source": [
    "# add code here\n",
    "def stacking(x, y, models, meta_model):\n",
    "    predictions = []\n",
    "\n",
    "    for model in models:\n",
    "        model.fit(x, y)\n",
    "        y_pred = model.predict(x)\n",
    "        predictions.append(y_pred)\n",
    "    \n",
    "    # Fazer uma transposta de predictions\n",
    "\n",
    "    meta_model.fit(predictions)\n",
    "    return meta_model.predict(predictions)\n",
    "        "
   ]
  },
  {
   "cell_type": "markdown",
   "id": "f6a121277a5f7edf",
   "metadata": {},
   "source": [
    "## Test the stacking implementation\n",
    "\n",
    "To test the stacking implementation, we will use the following models and meta-model:\n",
    "\n",
    "- Models: Random Forest, Gradient Boosting, Support Vector Machine\n",
    "- Meta-model: Linear Regression\n"
   ]
  },
  {
   "cell_type": "code",
   "execution_count": 1,
   "id": "ed47393cd12bacf5",
   "metadata": {
    "ExecuteTime": {
     "end_time": "2024-05-13T21:36:26.959546Z",
     "start_time": "2024-05-13T21:36:26.957169Z"
    }
   },
   "outputs": [],
   "source": [
    "# add code here\n"
   ]
  },
  {
   "cell_type": "markdown",
   "id": "89e72c410da924a9",
   "metadata": {},
   "source": [
    "## Use the stacking implementation to make predictions on the test data"
   ]
  },
  {
   "cell_type": "code",
   "execution_count": null,
   "id": "96ac3791522e5def",
   "metadata": {},
   "outputs": [],
   "source": [
    "# add code here\n"
   ]
  },
  {
   "cell_type": "markdown",
   "id": "a4bf683b5409cb7c",
   "metadata": {},
   "source": [
    "# Hyperparameter Optimization"
   ]
  },
  {
   "cell_type": "markdown",
   "id": "ecae28391d725b58",
   "metadata": {},
   "source": [
    "Create a function that takes as input the training data, the model and a dictionary of hyperparameters and respective values and performs hyperparameter optimization using grid search. The function should return the best hyperparameters found by the grid search. The function should have the following signature:\n",
    "\n",
    "```python\n",
    "def hyperparameter_optimization(X, y, model, param_grid):\n",
    "    # Perform hyperparameter optimization using grid search\n",
    "    # Return the best hyperparameters found by the grid search\n",
    "```\n",
    "\n",
    "Example of usage:\n",
    "\n",
    "```python\n",
    "param_grid = {\n",
    "    'n_estimators': [50, 100, 200],\n",
    "    'max_depth': [3, 5, 7]\n",
    "}\n",
    "\n",
    "best_params = hyperparameter_optimization(X_train, y_train, RandomForestRegressor(), param_grid)\n",
    "```"
   ]
  },
  {
   "cell_type": "code",
   "execution_count": 3,
   "id": "e4bb25b66ba62821",
   "metadata": {},
   "outputs": [],
   "source": [
    "# add code here\n",
    "import numpy as np\n",
    "import itertools\n",
    "def hyperparameter_optimization(x, y, model, param_grid, max):\n",
    "    if max:\n",
    "        best_score = 0\n",
    "    else:\n",
    "        best_score = np.where(np.inf > 0)\n",
    "    \n",
    "    for params in itertools.product(*param_grid):\n",
    "        m = model(params).fit(x, y)\n",
    "        y_pred = m.predict(x)\n",
    "        \n",
    "        if max:\n",
    "            score = accuracy(y, y_pred)\n",
    "            \n",
    "            if score > best_score:\n",
    "                best_score = score\n",
    "            \n",
    "        "
   ]
  },
  {
   "cell_type": "markdown",
   "id": "38f6c9614bf5bf5e",
   "metadata": {},
   "source": [
    "## Test the hyperparameter optimization implementation"
   ]
  },
  {
   "cell_type": "code",
   "execution_count": null,
   "id": "a2feb119fdb9d500",
   "metadata": {},
   "outputs": [],
   "source": [
    "# add code here\n"
   ]
  }
 ],
 "metadata": {
  "kernelspec": {
   "display_name": "Python 3",
   "language": "python",
   "name": "python3"
  },
  "language_info": {
   "codemirror_mode": {
    "name": "ipython",
    "version": 3
   },
   "file_extension": ".py",
   "mimetype": "text/x-python",
   "name": "python",
   "nbconvert_exporter": "python",
   "pygments_lexer": "ipython3",
   "version": "3.10.13"
  }
 },
 "nbformat": 4,
 "nbformat_minor": 5
}
