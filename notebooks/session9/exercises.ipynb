{
 "cells": [
  {
   "cell_type": "markdown",
   "id": "c39ef8bef83746f1",
   "metadata": {
    "collapsed": false
   },
   "source": [
    "## Load the iris dataset (scaled)"
   ]
  },
  {
   "cell_type": "code",
   "execution_count": 12,
   "id": "770f149be602603a",
   "metadata": {
    "ExecuteTime": {
     "end_time": "2024-03-06T22:34:10.215606Z",
     "start_time": "2024-03-06T22:34:10.213297Z"
    },
    "collapsed": false
   },
   "outputs": [
    {
     "data": {
      "text/html": [
       "<div>\n",
       "<style scoped>\n",
       "    .dataframe tbody tr th:only-of-type {\n",
       "        vertical-align: middle;\n",
       "    }\n",
       "\n",
       "    .dataframe tbody tr th {\n",
       "        vertical-align: top;\n",
       "    }\n",
       "\n",
       "    .dataframe thead th {\n",
       "        text-align: right;\n",
       "    }\n",
       "</style>\n",
       "<table border=\"1\" class=\"dataframe\">\n",
       "  <thead>\n",
       "    <tr style=\"text-align: right;\">\n",
       "      <th></th>\n",
       "      <th>Sepal.Length</th>\n",
       "      <th>Sepal.Width</th>\n",
       "      <th>Petal.Length</th>\n",
       "      <th>Petal.Width</th>\n",
       "      <th>Species</th>\n",
       "    </tr>\n",
       "  </thead>\n",
       "  <tbody>\n",
       "    <tr>\n",
       "      <th>0</th>\n",
       "      <td>-0.900681</td>\n",
       "      <td>1.019004</td>\n",
       "      <td>-1.340227</td>\n",
       "      <td>-1.315444</td>\n",
       "      <td>setosa</td>\n",
       "    </tr>\n",
       "    <tr>\n",
       "      <th>1</th>\n",
       "      <td>-1.143017</td>\n",
       "      <td>-0.131979</td>\n",
       "      <td>-1.340227</td>\n",
       "      <td>-1.315444</td>\n",
       "      <td>setosa</td>\n",
       "    </tr>\n",
       "    <tr>\n",
       "      <th>2</th>\n",
       "      <td>-1.385353</td>\n",
       "      <td>0.328414</td>\n",
       "      <td>-1.397064</td>\n",
       "      <td>-1.315444</td>\n",
       "      <td>setosa</td>\n",
       "    </tr>\n",
       "    <tr>\n",
       "      <th>3</th>\n",
       "      <td>-1.506521</td>\n",
       "      <td>0.098217</td>\n",
       "      <td>-1.283389</td>\n",
       "      <td>-1.315444</td>\n",
       "      <td>setosa</td>\n",
       "    </tr>\n",
       "    <tr>\n",
       "      <th>4</th>\n",
       "      <td>-1.021849</td>\n",
       "      <td>1.249201</td>\n",
       "      <td>-1.340227</td>\n",
       "      <td>-1.315444</td>\n",
       "      <td>setosa</td>\n",
       "    </tr>\n",
       "  </tbody>\n",
       "</table>\n",
       "</div>"
      ],
      "text/plain": [
       "   Sepal.Length  Sepal.Width  Petal.Length  Petal.Width Species\n",
       "0     -0.900681     1.019004     -1.340227    -1.315444  setosa\n",
       "1     -1.143017    -0.131979     -1.340227    -1.315444  setosa\n",
       "2     -1.385353     0.328414     -1.397064    -1.315444  setosa\n",
       "3     -1.506521     0.098217     -1.283389    -1.315444  setosa\n",
       "4     -1.021849     1.249201     -1.340227    -1.315444  setosa"
      ]
     },
     "execution_count": 12,
     "metadata": {},
     "output_type": "execute_result"
    }
   ],
   "source": [
    "# add code here\n",
    "import pandas as pd\n",
    "\n",
    "df = pd.read_csv(\"../../datasets/iris_scaled.csv\")\n",
    "df.head()"
   ]
  },
  {
   "cell_type": "markdown",
   "id": "3fd8b216e174360f",
   "metadata": {
    "collapsed": false
   },
   "source": [
    "## Split the data into training and test sets "
   ]
  },
  {
   "cell_type": "code",
   "execution_count": 13,
   "id": "97528dfa109c5baa",
   "metadata": {
    "ExecuteTime": {
     "end_time": "2024-03-06T22:35:40.437868Z",
     "start_time": "2024-03-06T22:35:40.435628Z"
    },
    "collapsed": false
   },
   "outputs": [
    {
     "data": {
      "text/plain": [
       "((105, 4), (45, 4), (105,), (45,))"
      ]
     },
     "execution_count": 13,
     "metadata": {},
     "output_type": "execute_result"
    }
   ],
   "source": [
    "# add code here\n",
    "from sklearn.model_selection import train_test_split\n",
    "\n",
    "X = df.drop('Species', axis=1)\n",
    "y = df['Species']\n",
    "\n",
    "x_train, x_test, y_train, y_test = train_test_split(X, y, test_size=0.3, random_state=60)\n",
    "x_train.shape, x_test.shape, y_train.shape, y_test.shape"
   ]
  },
  {
   "cell_type": "markdown",
   "id": "fb22f090d011e751",
   "metadata": {
    "collapsed": false
   },
   "source": [
    "## Train a KNN classifier\n"
   ]
  },
  {
   "cell_type": "code",
   "execution_count": 35,
   "id": "9a95dae256437d27",
   "metadata": {
    "ExecuteTime": {
     "end_time": "2024-03-06T22:35:58.753585Z",
     "start_time": "2024-03-06T22:35:58.751701Z"
    },
    "collapsed": false
   },
   "outputs": [
    {
     "data": {
      "text/plain": [
       "array(['versicolor', 'versicolor', 'versicolor', 'setosa', 'versicolor',\n",
       "       'setosa', 'versicolor', 'setosa', 'setosa', 'versicolor', 'setosa',\n",
       "       'setosa', 'virginica', 'versicolor', 'virginica', 'versicolor',\n",
       "       'virginica', 'versicolor', 'setosa', 'virginica', 'virginica',\n",
       "       'setosa', 'versicolor', 'setosa', 'setosa', 'setosa', 'setosa',\n",
       "       'versicolor', 'versicolor', 'setosa', 'virginica', 'versicolor',\n",
       "       'virginica', 'setosa', 'setosa', 'setosa', 'versicolor', 'setosa',\n",
       "       'versicolor', 'versicolor', 'virginica', 'setosa', 'virginica',\n",
       "       'virginica', 'virginica'], dtype=object)"
      ]
     },
     "execution_count": 35,
     "metadata": {},
     "output_type": "execute_result"
    }
   ],
   "source": [
    "# add code here\n",
    "from sklearn.neighbors import KNeighborsClassifier\n",
    "\n",
    "knn = KNeighborsClassifier(n_neighbors=5)\n",
    "knn.fit(x_train, y_train)\n",
    "y_pred = knn.predict(x_test)\n",
    "y_pred"
   ]
  },
  {
   "cell_type": "markdown",
   "id": "c8ac297fc10314a2",
   "metadata": {
    "collapsed": false
   },
   "source": [
    "### Evaluate the model"
   ]
  },
  {
   "cell_type": "code",
   "execution_count": 36,
   "id": "ffac60e924174e89",
   "metadata": {
    "ExecuteTime": {
     "end_time": "2024-03-06T22:36:21.818121Z",
     "start_time": "2024-03-06T22:36:21.816223Z"
    },
    "collapsed": false
   },
   "outputs": [
    {
     "name": "stdout",
     "output_type": "stream",
     "text": [
      "              precision    recall  f1-score   support\n",
      "\n",
      "      setosa       1.00      1.00      1.00        18\n",
      "  versicolor       0.88      1.00      0.93        14\n",
      "   virginica       1.00      0.85      0.92        13\n",
      "\n",
      "    accuracy                           0.96        45\n",
      "   macro avg       0.96      0.95      0.95        45\n",
      "weighted avg       0.96      0.96      0.96        45\n",
      "\n",
      "0.9555555555555556\n"
     ]
    }
   ],
   "source": [
    "# add code here\n",
    "from sklearn.metrics import classification_report, accuracy_score\n",
    "\n",
    "print(classification_report(y_test, y_pred))\n",
    "print(accuracy_score(y_test, y_pred))"
   ]
  },
  {
   "cell_type": "markdown",
   "id": "f67f08dfdb9b9a1e",
   "metadata": {
    "collapsed": false
   },
   "source": [
    "### Try to compute the optimal value of k"
   ]
  },
  {
   "cell_type": "code",
   "execution_count": 38,
   "id": "d71a7e4bf7c9f83e",
   "metadata": {
    "ExecuteTime": {
     "end_time": "2024-03-06T22:36:58.095447Z",
     "start_time": "2024-03-06T22:36:58.093507Z"
    },
    "collapsed": false
   },
   "outputs": [
    {
     "data": {
      "text/plain": [
       "[0.9709090909090909,\n",
       " 0.940909090909091,\n",
       " 0.9609090909090909,\n",
       " 0.9609090909090909,\n",
       " 0.9609090909090909,\n",
       " 0.9609090909090909,\n",
       " 0.9709090909090909,\n",
       " 0.9700000000000001,\n",
       " 0.9609090909090909,\n",
       " 0.9609090909090909,\n",
       " 0.9809090909090908,\n",
       " 0.9509090909090909,\n",
       " 0.9718181818181819,\n",
       " 0.9709090909090909,\n",
       " 0.9618181818181819,\n",
       " 0.9800000000000001,\n",
       " 0.9709090909090909,\n",
       " 0.940909090909091,\n",
       " 0.940909090909091,\n",
       " 0.930909090909091,\n",
       " 0.9509090909090909,\n",
       " 0.9218181818181819,\n",
       " 0.9227272727272728,\n",
       " 0.9218181818181819,\n",
       " 0.9136363636363637,\n",
       " 0.9127272727272728,\n",
       " 0.8936363636363636,\n",
       " 0.8845454545454545,\n",
       " 0.8936363636363638,\n",
       " 0.8936363636363638]"
      ]
     },
     "execution_count": 38,
     "metadata": {},
     "output_type": "execute_result"
    }
   ],
   "source": [
    "# add code here\n",
    "from sklearn.model_selection import cross_val_score\n",
    "\n",
    "k_values = list(range(1, 31))\n",
    "k_scores = []\n",
    "\n",
    "for i in k_values:\n",
    "    knn = KNeighborsClassifier(n_neighbors=i)\n",
    "    scores = cross_val_score(knn, x_train, y_train, cv=10, scoring='accuracy')\n",
    "    k_scores.append(scores.mean())\n",
    "\n",
    "k_scores"
   ]
  },
  {
   "cell_type": "code",
   "execution_count": 41,
   "id": "6f8d47b1",
   "metadata": {},
   "outputs": [
    {
     "data": {
      "image/png": "[encoded data removed]",
      "text/plain": [
       "<Figure size 640x480 with 1 Axes>"
      ]
     },
     "metadata": {},
     "output_type": "display_data"
    }
   ],
   "source": [
    "from matplotlib import pyplot as plt\n",
    "import numpy as np\n",
    "\n",
    "plt.plot(k_values, k_scores)\n",
    "plt.xlabel('Value of K from KNN')\n",
    "plt.ylabel('Cross-Validation Accuracy')\n",
    "plt.grid(True)\n",
    "plt.xticks(np.arange(1, 30, step=2))\n",
    "plt.show()"
   ]
  },
  {
   "cell_type": "markdown",
   "id": "f86c34d0bff487cf",
   "metadata": {
    "collapsed": false
   },
   "source": [
    "### Traind and Evaluate the model with the optimal value of k\n"
   ]
  },
  {
   "cell_type": "code",
   "execution_count": 18,
   "id": "542aa9da685bc188",
   "metadata": {
    "ExecuteTime": {
     "end_time": "2024-03-06T22:37:18.596744Z",
     "start_time": "2024-03-06T22:37:18.594928Z"
    },
    "collapsed": false
   },
   "outputs": [
    {
     "name": "stdout",
     "output_type": "stream",
     "text": [
      "              precision    recall  f1-score   support\n",
      "\n",
      "      setosa       1.00      1.00      1.00        18\n",
      "  versicolor       0.75      0.86      0.80        14\n",
      "   virginica       0.82      0.69      0.75        13\n",
      "\n",
      "    accuracy                           0.87        45\n",
      "   macro avg       0.86      0.85      0.85        45\n",
      "weighted avg       0.87      0.87      0.87        45\n",
      "\n",
      "0.8666666666666667\n"
     ]
    }
   ],
   "source": [
    "# add code here\n",
    "knn_optimal = KNeighborsClassifier(n_neighbors=11)\n",
    "knn.fit(x_train, y_train)\n",
    "y_pred = knn.predict(x_test)\n",
    "\n",
    "print(classification_report(y_test, y_pred))\n",
    "print(accuracy_score(y_test, y_pred))"
   ]
  },
  {
   "cell_type": "markdown",
   "id": "9ac96281066b66c7",
   "metadata": {
    "collapsed": false
   },
   "source": [
    "## Train a Naive Bayes classifier"
   ]
  },
  {
   "cell_type": "code",
   "execution_count": 19,
   "id": "e156f916d1be29b5",
   "metadata": {
    "ExecuteTime": {
     "end_time": "2024-03-06T22:38:02.770571Z",
     "start_time": "2024-03-06T22:38:02.768499Z"
    },
    "collapsed": false
   },
   "outputs": [
    {
     "data": {
      "text/plain": [
       "array(['versicolor', 'versicolor', 'versicolor', 'setosa', 'versicolor',\n",
       "       'setosa', 'versicolor', 'setosa', 'setosa', 'versicolor', 'setosa',\n",
       "       'setosa', 'virginica', 'versicolor', 'virginica', 'versicolor',\n",
       "       'virginica', 'versicolor', 'setosa', 'virginica', 'virginica',\n",
       "       'setosa', 'versicolor', 'setosa', 'setosa', 'setosa', 'setosa',\n",
       "       'versicolor', 'virginica', 'setosa', 'virginica', 'versicolor',\n",
       "       'virginica', 'setosa', 'setosa', 'setosa', 'versicolor', 'setosa',\n",
       "       'versicolor', 'versicolor', 'virginica', 'setosa', 'versicolor',\n",
       "       'virginica', 'virginica'], dtype='<U10')"
      ]
     },
     "execution_count": 19,
     "metadata": {},
     "output_type": "execute_result"
    }
   ],
   "source": [
    "# add code here\n",
    "from sklearn.naive_bayes import GaussianNB\n",
    "\n",
    "nb = GaussianNB()\n",
    "nb.fit(x_train, y_train)\n",
    "y_pred = nb.predict(x_test)\n",
    "y_pred"
   ]
  },
  {
   "cell_type": "markdown",
   "id": "442587f171688f21",
   "metadata": {
    "collapsed": false
   },
   "source": [
    "### Evaluate the model\n"
   ]
  },
  {
   "cell_type": "code",
   "execution_count": 21,
   "id": "b4becabf4933adaa",
   "metadata": {
    "ExecuteTime": {
     "end_time": "2024-03-06T22:38:14.309978Z",
     "start_time": "2024-03-06T22:38:14.307392Z"
    },
    "collapsed": false
   },
   "outputs": [
    {
     "name": "stdout",
     "output_type": "stream",
     "text": [
      "              precision    recall  f1-score   support\n",
      "\n",
      "      setosa       1.00      1.00      1.00        18\n",
      "  versicolor       0.81      0.93      0.87        14\n",
      "   virginica       0.91      0.77      0.83        13\n",
      "\n",
      "    accuracy                           0.91        45\n",
      "   macro avg       0.91      0.90      0.90        45\n",
      "weighted avg       0.92      0.91      0.91        45\n",
      "\n",
      "0.9111111111111111\n"
     ]
    }
   ],
   "source": [
    "# add code here\n",
    "print(classification_report(y_test, y_pred))\n",
    "print(accuracy_score(y_test, y_pred))"
   ]
  }
 ],
 "metadata": {
  "kernelspec": {
   "display_name": "Python 3",
   "language": "python",
   "name": "python3"
  },
  "language_info": {
   "codemirror_mode": {
    "name": "ipython",
    "version": 3
   },
   "file_extension": ".py",
   "mimetype": "text/x-python",
   "name": "python",
   "nbconvert_exporter": "python",
   "pygments_lexer": "ipython3",
   "version": "3.10.13"
  }
 },
 "nbformat": 4,
 "nbformat_minor": 5
}
