{
 "cells": [
  {
   "cell_type": "markdown",
   "id": "d6379d0ae267b462",
   "metadata": {
    "collapsed": false
   },
   "source": [
    "# About the data\n",
    "\n",
    "Breast cancer is the most common cancer amongst women in the world. It accounts for 25% of all cancer cases and affected over 2.1 Million people in 2015 alone. It starts when cells in the breast begin to grow out of control. These cells usually form tumors that can be seen via X-ray or felt as lumps in the breast area."
   ]
  },
  {
   "cell_type": "markdown",
   "id": "1e2b758738225649",
   "metadata": {
    "collapsed": false
   },
   "source": [
    "## Exercise 1.1: Load the loan data (datasets/breast_cancer.csv) using pandas"
   ]
  },
  {
   "cell_type": "code",
   "execution_count": 13,
   "id": "initial_id",
   "metadata": {
    "ExecuteTime": {
     "end_time": "2024-02-28T19:04:10.332316Z",
     "start_time": "2024-02-28T19:04:10.330481Z"
    },
    "collapsed": true
   },
   "outputs": [],
   "source": []
  },
  {
   "cell_type": "markdown",
   "id": "274158e9497f99b",
   "metadata": {
    "collapsed": false
   },
   "source": [
    "## Exercise 1.2: Check the shape of the dataset"
   ]
  },
  {
   "cell_type": "code",
   "execution_count": 13,
   "id": "a79c4a2672540749",
   "metadata": {
    "ExecuteTime": {
     "end_time": "2024-02-28T19:07:51.916762Z",
     "start_time": "2024-02-28T19:07:51.914622Z"
    },
    "collapsed": false
   },
   "outputs": [],
   "source": []
  },
  {
   "cell_type": "markdown",
   "id": "37fcd695d4bc6453",
   "metadata": {
    "collapsed": false
   },
   "source": [
    "## Exercise 1.3: Get some information and statistics about the data (include some graphs)"
   ]
  },
  {
   "cell_type": "code",
   "execution_count": 13,
   "id": "a802895ed44a367b",
   "metadata": {
    "ExecuteTime": {
     "end_time": "2024-02-28T19:09:16.851777Z",
     "start_time": "2024-02-28T19:09:16.849961Z"
    },
    "collapsed": false
   },
   "outputs": [],
   "source": []
  },
  {
   "cell_type": "markdown",
   "id": "8f0cda99b01c7ae2",
   "metadata": {
    "collapsed": false
   },
   "source": [
    "## Exercise 1.4: Check for missing values and if any treat them"
   ]
  },
  {
   "cell_type": "code",
   "execution_count": 13,
   "id": "61cbbad858c39653",
   "metadata": {
    "ExecuteTime": {
     "end_time": "2024-02-28T19:09:27.996113Z",
     "start_time": "2024-02-28T19:09:27.994156Z"
    },
    "collapsed": false
   },
   "outputs": [],
   "source": []
  },
  {
   "cell_type": "markdown",
   "id": "95415166b28f018d",
   "metadata": {
    "collapsed": false
   },
   "source": [
    "## Exercise 1.5: Check if the dataset contains duplicated rows and if so remove them"
   ]
  },
  {
   "cell_type": "code",
   "execution_count": 13,
   "id": "f9ec6f78d3c55c2a",
   "metadata": {
    "ExecuteTime": {
     "end_time": "2024-02-28T19:10:14.966608Z",
     "start_time": "2024-02-28T19:10:14.964809Z"
    },
    "collapsed": false
   },
   "outputs": [],
   "source": []
  },
  {
   "cell_type": "markdown",
   "id": "2bd0bde6e92d87c2",
   "metadata": {
    "collapsed": false
   },
   "source": [
    "## Exercise 1.6: Save the target variable \"diagnosis\" in a variable and remove it from the dataset"
   ]
  },
  {
   "cell_type": "code",
   "execution_count": 13,
   "id": "ca231f167b52264",
   "metadata": {
    "ExecuteTime": {
     "end_time": "2024-02-28T19:11:23.543915Z",
     "start_time": "2024-02-28T19:11:23.542159Z"
    },
    "collapsed": false
   },
   "outputs": [],
   "source": []
  },
  {
   "cell_type": "markdown",
   "id": "33b1492bc18b4c57",
   "metadata": {
    "collapsed": false
   },
   "source": [
    "## Exercise 1.7: Chech if there are outliers in the data (use boxplots)"
   ]
  },
  {
   "cell_type": "code",
   "execution_count": 13,
   "id": "933aa269e78e333b",
   "metadata": {
    "ExecuteTime": {
     "end_time": "2024-02-28T19:12:28.132770Z",
     "start_time": "2024-02-28T19:12:28.130788Z"
    },
    "collapsed": false
   },
   "outputs": [],
   "source": []
  },
  {
   "cell_type": "markdown",
   "id": "4c340f3166614f62",
   "metadata": {
    "collapsed": false
   },
   "source": [
    "## Exercise 1.8: Remove the outliers (use the quantiles)"
   ]
  },
  {
   "cell_type": "code",
   "execution_count": 13,
   "id": "3f0d94999d311f86",
   "metadata": {
    "ExecuteTime": {
     "end_time": "2024-02-28T19:19:49.788123Z",
     "start_time": "2024-02-28T19:19:49.786297Z"
    },
    "collapsed": false
   },
   "outputs": [],
   "source": []
  },
  {
   "cell_type": "markdown",
   "id": "6a41ff2c4c03cbe4",
   "metadata": {
    "collapsed": false
   },
   "source": [
    "## Exercise 1.9: Check the shape of the dataset without outliers"
   ]
  },
  {
   "cell_type": "code",
   "execution_count": 13,
   "id": "e56d4e6fbca2378a",
   "metadata": {
    "ExecuteTime": {
     "end_time": "2024-02-28T19:20:36.104867Z",
     "start_time": "2024-02-28T19:20:36.102947Z"
    },
    "collapsed": false
   },
   "outputs": [],
   "source": []
  },
  {
   "cell_type": "markdown",
   "id": "4c34621b6b76cc2b",
   "metadata": {
    "collapsed": false
   },
   "source": [
    "## Exercise 2: Scale the data"
   ]
  },
  {
   "cell_type": "code",
   "execution_count": 13,
   "id": "4b0db366f1ad1fdf",
   "metadata": {
    "ExecuteTime": {
     "end_time": "2024-02-28T19:20:58.968434Z",
     "start_time": "2024-02-28T19:20:58.966330Z"
    },
    "collapsed": false
   },
   "outputs": [],
   "source": []
  },
  {
   "cell_type": "markdown",
   "id": "e6b5b6817de2d21e",
   "metadata": {
    "collapsed": false
   },
   "source": [
    "## Exercise 3: Apply hierarchical clustering using complete, average and single linkage. Plot and compare the results"
   ]
  },
  {
   "cell_type": "code",
   "execution_count": 10,
   "id": "55dae62e68e4bab8",
   "metadata": {
    "ExecuteTime": {
     "end_time": "2024-02-28T18:51:45.843369Z",
     "start_time": "2024-02-28T18:51:38.184256Z"
    },
    "collapsed": false
   },
   "outputs": [],
   "source": []
  }
 ],
 "metadata": {
  "kernelspec": {
   "display_name": "Python 3",
   "language": "python",
   "name": "python3"
  },
  "language_info": {
   "codemirror_mode": {
    "name": "ipython",
    "version": 2
   },
   "file_extension": ".py",
   "mimetype": "text/x-python",
   "name": "python",
   "nbconvert_exporter": "python",
   "pygments_lexer": "ipython2",
   "version": "3.10.13"
  }
 },
 "nbformat": 4,
 "nbformat_minor": 5
}
