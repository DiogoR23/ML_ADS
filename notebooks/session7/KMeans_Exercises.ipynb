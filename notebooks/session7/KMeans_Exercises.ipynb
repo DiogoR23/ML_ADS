{
 "cells": [
  {
   "cell_type": "markdown",
   "source": [
    "# About the data\n",
    "\n",
    "Breast cancer is the most common cancer amongst women in the world. It accounts for 25% of all cancer cases and affected over 2.1 Million people in 2015 alone. It starts when cells in the breast begin to grow out of control. These cells usually form tumors that can be seen via X-ray or felt as lumps in the breast area."
   ],
   "metadata": {
    "collapsed": false
   },
   "id": "8f3a1eaba6a72f66"
  },
  {
   "cell_type": "markdown",
   "source": [
    "## Exercise 1: Load the loan data (datasets/breast_cancer.csv) using pandas"
   ],
   "metadata": {
    "collapsed": false
   },
   "id": "fc87eba8c650a244"
  },
  {
   "cell_type": "code",
   "outputs": [],
   "source": [],
   "metadata": {
    "collapsed": false
   },
   "id": "ca403e885d8261c7"
  },
  {
   "cell_type": "markdown",
   "source": [
    "## Exercise 2: Scale the data"
   ],
   "metadata": {
    "collapsed": false
   },
   "id": "5e4bb72fb6538843"
  },
  {
   "cell_type": "code",
   "outputs": [],
   "source": [],
   "metadata": {
    "collapsed": false
   },
   "id": "25a9d5c7cc72f7a8"
  },
  {
   "cell_type": "markdown",
   "source": [
    "## Exercise 3: Perform KMeans clustering with 2 clusters"
   ],
   "metadata": {
    "collapsed": false
   },
   "id": "d0e09c4f961a2123"
  },
  {
   "cell_type": "code",
   "outputs": [],
   "source": [],
   "metadata": {
    "collapsed": false
   },
   "id": "a42dff5a98f79ad8"
  },
  {
   "cell_type": "markdown",
   "source": [
    "## Exercise 4: Use the elbow method to determine the number of clusters"
   ],
   "metadata": {
    "collapsed": false
   },
   "id": "f7c6b6f028b3e2ff"
  },
  {
   "cell_type": "code",
   "outputs": [],
   "source": [],
   "metadata": {
    "collapsed": false
   },
   "id": "a1c3761a8af3e16b"
  },
  {
   "cell_type": "markdown",
   "source": [
    "## Exercise 5: Plot the clusters and the centroids (color the data by cluster and then by the actual diagnosis)"
   ],
   "metadata": {
    "collapsed": false
   },
   "id": "9d11fe6158ceb620"
  },
  {
   "cell_type": "code",
   "outputs": [],
   "source": [],
   "metadata": {
    "collapsed": false
   },
   "id": "bf269c0ef0772c8d"
  }
 ],
 "metadata": {
  "kernelspec": {
   "display_name": "Python 3",
   "language": "python",
   "name": "python3"
  },
  "language_info": {
   "codemirror_mode": {
    "name": "ipython",
    "version": 2
   },
   "file_extension": ".py",
   "mimetype": "text/x-python",
   "name": "python",
   "nbconvert_exporter": "python",
   "pygments_lexer": "ipython2",
   "version": "2.7.6"
  }
 },
 "nbformat": 4,
 "nbformat_minor": 5
}
