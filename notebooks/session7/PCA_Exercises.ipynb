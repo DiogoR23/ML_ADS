{
 "cells": [
  {
   "cell_type": "markdown",
   "source": [
    "# About the data\n",
    "\n",
    "Breast cancer is the most common cancer amongst women in the world. It accounts for 25% of all cancer cases and affected over 2.1 Million people in 2015 alone. It starts when cells in the breast begin to grow out of control. These cells usually form tumors that can be seen via X-ray or felt as lumps in the breast area."
   ],
   "metadata": {
    "collapsed": false
   },
   "id": "b7c77652ff2328f2"
  },
  {
   "cell_type": "markdown",
   "source": [
    "## Exercise 1: Load the loan data (datasets/breast_cancer.csv) using pandas"
   ],
   "metadata": {
    "collapsed": false
   },
   "id": "ecbdd071eda6b012"
  },
  {
   "cell_type": "code",
   "outputs": [],
   "source": [],
   "metadata": {
    "collapsed": false,
    "ExecuteTime": {
     "end_time": "2024-02-28T22:10:37.639335Z",
     "start_time": "2024-02-28T22:10:37.637671Z"
    }
   },
   "id": "14212f7ddbca0077",
   "execution_count": 0
  },
  {
   "cell_type": "markdown",
   "source": [
    "## Exercise 2: Scale the data"
   ],
   "metadata": {
    "collapsed": false
   },
   "id": "61d4869b22164c97"
  },
  {
   "cell_type": "code",
   "outputs": [],
   "source": [],
   "metadata": {
    "collapsed": false,
    "ExecuteTime": {
     "end_time": "2024-02-28T22:10:55.911124Z",
     "start_time": "2024-02-28T22:10:55.908808Z"
    }
   },
   "id": "8fb8a47df157a5f4",
   "execution_count": 0
  },
  {
   "cell_type": "markdown",
   "source": [
    "## Exercise 3: Perform PCA with 2 components"
   ],
   "metadata": {
    "collapsed": false
   },
   "id": "ec4909135c0b0944"
  },
  {
   "cell_type": "code",
   "outputs": [],
   "source": [],
   "metadata": {
    "collapsed": false,
    "ExecuteTime": {
     "end_time": "2024-02-28T22:11:22.593321Z",
     "start_time": "2024-02-28T22:11:22.591234Z"
    }
   },
   "id": "13daecff59a8edc6",
   "execution_count": 0
  },
  {
   "cell_type": "markdown",
   "source": [
    "## Exercise 4: Plot the explained variance ratio"
   ],
   "metadata": {
    "collapsed": false
   },
   "id": "ebde4e69c1d4849d"
  },
  {
   "cell_type": "code",
   "outputs": [],
   "source": [],
   "metadata": {
    "collapsed": false,
    "ExecuteTime": {
     "end_time": "2024-02-28T22:11:54.383119Z",
     "start_time": "2024-02-28T22:11:54.381207Z"
    }
   },
   "id": "b0fff86baa9afd14",
   "execution_count": 0
  },
  {
   "cell_type": "markdown",
   "source": [
    "## Exercise 5: Plot the first two principal components"
   ],
   "metadata": {
    "collapsed": false
   },
   "id": "88d317240fd6940b"
  },
  {
   "cell_type": "code",
   "outputs": [],
   "source": [],
   "metadata": {
    "collapsed": false,
    "ExecuteTime": {
     "end_time": "2024-02-28T22:12:21.532365Z",
     "start_time": "2024-02-28T22:12:21.530207Z"
    }
   },
   "id": "e35d663b7ddf1227",
   "execution_count": 1
  },
  {
   "cell_type": "markdown",
   "source": [
    "## Exercise 6: Plot a 3D scatter plot of the first three principal components"
   ],
   "metadata": {
    "collapsed": false
   },
   "id": "a2c12e1649d42bfc"
  },
  {
   "cell_type": "code",
   "outputs": [],
   "source": [],
   "metadata": {
    "collapsed": false,
    "ExecuteTime": {
     "end_time": "2024-02-28T22:12:48.301252Z",
     "start_time": "2024-02-28T22:12:48.299535Z"
    }
   },
   "id": "90398f76f1eeb244",
   "execution_count": 1
  },
  {
   "cell_type": "markdown",
   "source": [
    "## Exercise 7: Try other dimensionality reduction techniques"
   ],
   "metadata": {
    "collapsed": false
   },
   "id": "7b386ff40a28170"
  },
  {
   "cell_type": "code",
   "outputs": [],
   "source": [],
   "metadata": {
    "collapsed": false
   },
   "id": "e9a1e3f65527876d"
  }
 ],
 "metadata": {
  "kernelspec": {
   "display_name": "Python 3",
   "language": "python",
   "name": "python3"
  },
  "language_info": {
   "codemirror_mode": {
    "name": "ipython",
    "version": 2
   },
   "file_extension": ".py",
   "mimetype": "text/x-python",
   "name": "python",
   "nbconvert_exporter": "python",
   "pygments_lexer": "ipython2",
   "version": "2.7.6"
  }
 },
 "nbformat": 4,
 "nbformat_minor": 5
}
