{
 "cells": [
  {
   "metadata": {},
   "cell_type": "markdown",
   "source": "# SVM with Sklearn (Regression)",
   "id": "4a41b27ec785abd9"
  },
  {
   "metadata": {},
   "cell_type": "markdown",
   "source": "### Load the data",
   "id": "28085b1a84ef5468"
  },
  {
   "metadata": {
    "ExecuteTime": {
     "end_time": "2024-04-29T20:23:02.911789Z",
     "start_time": "2024-04-29T20:23:02.900812Z"
    }
   },
   "cell_type": "code",
   "source": [
    "from sklearn.datasets import fetch_california_housing\n",
    "\n",
    "boston = fetch_california_housing()\n",
    "X = boston.data\n",
    "y = boston.target"
   ],
   "id": "f9e72e6da474376f",
   "outputs": [],
   "execution_count": 2
  },
  {
   "metadata": {},
   "cell_type": "markdown",
   "source": "### Split the data into training and test sets",
   "id": "c936dfec236bf256"
  },
  {
   "metadata": {
    "ExecuteTime": {
     "end_time": "2024-04-29T20:23:05.512903Z",
     "start_time": "2024-04-29T20:23:05.416465Z"
    }
   },
   "cell_type": "code",
   "source": [
    "from sklearn.model_selection import train_test_split\n",
    "\n",
    "x_train, x_test, y_train, y_test = train_test_split(X, y, test_size=0.2, random_state=12)\n",
    "x_train.shape, x_test.shape"
   ],
   "id": "e52c945745c967ae",
   "outputs": [
    {
     "data": {
      "text/plain": [
       "((16512, 8), (4128, 8))"
      ]
     },
     "execution_count": 3,
     "metadata": {},
     "output_type": "execute_result"
    }
   ],
   "execution_count": 3
  },
  {
   "metadata": {},
   "cell_type": "markdown",
   "source": "### SVM",
   "id": "c6fc8595edc20d45"
  },
  {
   "metadata": {
    "jupyter": {
     "is_executing": true
    },
    "ExecuteTime": {
     "start_time": "2024-04-29T20:23:26.226535Z"
    }
   },
   "cell_type": "code",
   "source": [
    "from sklearn.svm import SVR\n",
    "\n",
    "model = SVR(C=2.0, kernel=\"linear\", epsilon=0.1)\n",
    "model.fit(x_train, y_train)"
   ],
   "id": "5edf373440f52871",
   "outputs": [],
   "execution_count": null
  },
  {
   "metadata": {},
   "cell_type": "markdown",
   "source": "### Make predictions on the test set",
   "id": "1ad76698555081ab"
  },
  {
   "metadata": {
    "jupyter": {
     "is_executing": true
    }
   },
   "cell_type": "code",
   "source": [
    "y_pred = model.predict(x_test)\n",
    "y_pred"
   ],
   "id": "c3ffe6a3525f8996",
   "outputs": [],
   "execution_count": null
  },
  {
   "metadata": {},
   "cell_type": "markdown",
   "source": "### Evaluate the model",
   "id": "1686212c6617387a"
  },
  {
   "metadata": {
    "jupyter": {
     "is_executing": true
    }
   },
   "cell_type": "code",
   "source": [
    "from sklearn.metrics import mean_squared_error\n",
    "\n",
    "mean_squared_error(y_test, y_pred)"
   ],
   "id": "c8af0d611397d0c2",
   "outputs": [],
   "execution_count": null
  },
  {
   "metadata": {
    "jupyter": {
     "is_executing": true
    }
   },
   "cell_type": "code",
   "source": [
    "from sklearn.model_selection import cross_val_score\n",
    "\n",
    "scores = cross_val_score(model, X, y, cv=5)\n",
    "scores.mean(), scores.std()"
   ],
   "id": "e67d39a45cba1b81",
   "outputs": [],
   "execution_count": null
  },
  {
   "metadata": {},
   "cell_type": "markdown",
   "source": "## Support Vector Regression (SVR) using linear and non-linear kernels",
   "id": "d07374abef825eda"
  },
  {
   "metadata": {
    "jupyter": {
     "is_executing": true
    }
   },
   "cell_type": "code",
   "source": [
    "import matplotlib.pyplot as plt\n",
    "import numpy as np\n",
    "from sklearn.svm import SVR\n",
    "\n",
    "\n",
    "# Generate sample data\n",
    "X = np.sort(5 * np.random.rand(40, 1), axis=0)\n",
    "y = np.sin(X).ravel()\n",
    "\n",
    "# add noise to targets\n",
    "y[::5] += 3 * (0.5 - np.random.rand(8))\n",
    "\n",
    "\n",
    "# Fit regression model\n",
    "svr_rbf = SVR(kernel=\"rbf\", C=100, gamma=0.1, epsilon=0.1)\n",
    "svr_lin = SVR(kernel=\"linear\", C=100, gamma=\"auto\")\n",
    "svr_poly = SVR(kernel=\"poly\", C=100, gamma=\"auto\", degree=3, epsilon=0.1, coef0=1)\n",
    "\n",
    "\n",
    "# Look at the results\n",
    "lw = 2\n",
    "\n",
    "svrs = [svr_rbf, svr_lin, svr_poly]\n",
    "kernel_label = [\"RBF\", \"Linear\", \"Polynomial\"]\n",
    "model_color = [\"m\", \"c\", \"g\"]\n",
    "\n",
    "fig, axes = plt.subplots(nrows=1, ncols=3, figsize=(15, 10), sharey=True)\n",
    "for ix, svr in enumerate(svrs):\n",
    "    axes[ix].plot(\n",
    "        X,\n",
    "        svr.fit(X, y).predict(X),\n",
    "        color=model_color[ix],\n",
    "        lw=lw,\n",
    "        label=\"{} model\".format(kernel_label[ix]),\n",
    "    )\n",
    "    axes[ix].scatter(\n",
    "        X[svr.support_],\n",
    "        y[svr.support_],\n",
    "        facecolor=\"none\",\n",
    "        edgecolor=model_color[ix],\n",
    "        s=50,\n",
    "        label=\"{} support vectors\".format(kernel_label[ix]),\n",
    "    )\n",
    "    axes[ix].scatter(\n",
    "        X[np.setdiff1d(np.arange(len(X)), svr.support_)],\n",
    "        y[np.setdiff1d(np.arange(len(X)), svr.support_)],\n",
    "        facecolor=\"none\",\n",
    "        edgecolor=\"k\",\n",
    "        s=50,\n",
    "        label=\"other training data\",\n",
    "    )\n",
    "    axes[ix].legend(\n",
    "        loc=\"upper center\",\n",
    "        bbox_to_anchor=(0.5, 1.1),\n",
    "        ncol=1,\n",
    "        fancybox=True,\n",
    "        shadow=True,\n",
    "    )\n",
    "\n",
    "fig.text(0.5, 0.04, \"data\", ha=\"center\", va=\"center\")\n",
    "fig.text(0.06, 0.5, \"target\", ha=\"center\", va=\"center\", rotation=\"vertical\")\n",
    "fig.suptitle(\"Support Vector Regression\", fontsize=14)\n",
    "plt.show()"
   ],
   "id": "ccf7c50c7bb2f1ab",
   "outputs": [],
   "execution_count": null
  }
 ],
 "metadata": {
  "kernelspec": {
   "display_name": "Python 3",
   "language": "python",
   "name": "python3"
  },
  "language_info": {
   "codemirror_mode": {
    "name": "ipython",
    "version": 2
   },
   "file_extension": ".py",
   "mimetype": "text/x-python",
   "name": "python",
   "nbconvert_exporter": "python",
   "pygments_lexer": "ipython2",
   "version": "2.7.6"
  }
 },
 "nbformat": 4,
 "nbformat_minor": 5
}
