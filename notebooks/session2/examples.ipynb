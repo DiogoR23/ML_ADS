{
 "cells": [
  {
   "cell_type": "markdown",
   "id": "dfc0871c40e2c9ba",
   "metadata": {
    "collapsed": false
   },
   "source": [
    "# Introduction to pandas"
   ]
  },
  {
   "cell_type": "code",
   "execution_count": 1,
   "id": "1f78f2d1c828fc8a",
   "metadata": {
    "ExecuteTime": {
     "end_time": "2024-02-07T20:11:46.886734623Z",
     "start_time": "2024-02-07T20:11:46.407801265Z"
    },
    "collapsed": false
   },
   "outputs": [],
   "source": [
    "# imports\n",
    "import pandas as pd\n",
    "import numpy as np"
   ]
  },
  {
   "cell_type": "markdown",
   "id": "de775eeec9c04b74",
   "metadata": {
    "collapsed": false
   },
   "source": [
    "## Pandas Dataframes"
   ]
  },
  {
   "cell_type": "markdown",
   "id": "867a8b695859863",
   "metadata": {
    "collapsed": false
   },
   "source": [
    "### create a dataframe with random data"
   ]
  },
  {
   "cell_type": "code",
   "execution_count": 2,
   "id": "44389b3395bac54b",
   "metadata": {
    "ExecuteTime": {
     "end_time": "2024-02-07T20:11:46.911631024Z",
     "start_time": "2024-02-07T20:11:46.890863382Z"
    },
    "collapsed": false
   },
   "outputs": [
    {
     "data": {
      "text/html": [
       "<div>\n",
       "<style scoped>\n",
       "    .dataframe tbody tr th:only-of-type {\n",
       "        vertical-align: middle;\n",
       "    }\n",
       "\n",
       "    .dataframe tbody tr th {\n",
       "        vertical-align: top;\n",
       "    }\n",
       "\n",
       "    .dataframe thead th {\n",
       "        text-align: right;\n",
       "    }\n",
       "</style>\n",
       "<table border=\"1\" class=\"dataframe\">\n",
       "  <thead>\n",
       "    <tr style=\"text-align: right;\">\n",
       "      <th></th>\n",
       "      <th>A</th>\n",
       "      <th>B</th>\n",
       "      <th>C</th>\n",
       "      <th>D</th>\n",
       "    </tr>\n",
       "  </thead>\n",
       "  <tbody>\n",
       "    <tr>\n",
       "      <th>0</th>\n",
       "      <td>1.940410</td>\n",
       "      <td>-0.332317</td>\n",
       "      <td>1.545259</td>\n",
       "      <td>0.059714</td>\n",
       "    </tr>\n",
       "    <tr>\n",
       "      <th>1</th>\n",
       "      <td>-0.839912</td>\n",
       "      <td>0.376141</td>\n",
       "      <td>-0.158381</td>\n",
       "      <td>0.358148</td>\n",
       "    </tr>\n",
       "    <tr>\n",
       "      <th>2</th>\n",
       "      <td>-0.816047</td>\n",
       "      <td>1.969123</td>\n",
       "      <td>0.059128</td>\n",
       "      <td>-0.423891</td>\n",
       "    </tr>\n",
       "    <tr>\n",
       "      <th>3</th>\n",
       "      <td>-1.671420</td>\n",
       "      <td>1.219982</td>\n",
       "      <td>1.784673</td>\n",
       "      <td>1.280161</td>\n",
       "    </tr>\n",
       "    <tr>\n",
       "      <th>4</th>\n",
       "      <td>-0.774600</td>\n",
       "      <td>-0.209410</td>\n",
       "      <td>0.912058</td>\n",
       "      <td>-1.250596</td>\n",
       "    </tr>\n",
       "  </tbody>\n",
       "</table>\n",
       "</div>"
      ],
      "text/plain": [
       "          A         B         C         D\n",
       "0  1.940410 -0.332317  1.545259  0.059714\n",
       "1 -0.839912  0.376141 -0.158381  0.358148\n",
       "2 -0.816047  1.969123  0.059128 -0.423891\n",
       "3 -1.671420  1.219982  1.784673  1.280161\n",
       "4 -0.774600 -0.209410  0.912058 -1.250596"
      ]
     },
     "execution_count": 2,
     "metadata": {},
     "output_type": "execute_result"
    }
   ],
   "source": [
    "df = pd.DataFrame(np.random.randn(5, 4), columns=['A', 'B', 'C', 'D'])\n",
    "df"
   ]
  },
  {
   "cell_type": "markdown",
   "id": "d72584f04f9f1bea",
   "metadata": {
    "collapsed": false
   },
   "source": [
    "### create a dataframe with a dictionary"
   ]
  },
  {
   "cell_type": "code",
   "execution_count": 3,
   "id": "c98433c1262314c0",
   "metadata": {
    "ExecuteTime": {
     "end_time": "2024-02-07T20:11:46.913637279Z",
     "start_time": "2024-02-07T20:11:46.891725759Z"
    },
    "collapsed": false
   },
   "outputs": [
    {
     "data": {
      "text/html": [
       "<div>\n",
       "<style scoped>\n",
       "    .dataframe tbody tr th:only-of-type {\n",
       "        vertical-align: middle;\n",
       "    }\n",
       "\n",
       "    .dataframe tbody tr th {\n",
       "        vertical-align: top;\n",
       "    }\n",
       "\n",
       "    .dataframe thead th {\n",
       "        text-align: right;\n",
       "    }\n",
       "</style>\n",
       "<table border=\"1\" class=\"dataframe\">\n",
       "  <thead>\n",
       "    <tr style=\"text-align: right;\">\n",
       "      <th></th>\n",
       "      <th>A</th>\n",
       "      <th>B</th>\n",
       "      <th>C</th>\n",
       "      <th>D</th>\n",
       "      <th>E</th>\n",
       "      <th>F</th>\n",
       "    </tr>\n",
       "  </thead>\n",
       "  <tbody>\n",
       "    <tr>\n",
       "      <th>0</th>\n",
       "      <td>1.0</td>\n",
       "      <td>2013-01-02</td>\n",
       "      <td>1.0</td>\n",
       "      <td>3</td>\n",
       "      <td>test</td>\n",
       "      <td>foo</td>\n",
       "    </tr>\n",
       "    <tr>\n",
       "      <th>1</th>\n",
       "      <td>1.0</td>\n",
       "      <td>2013-01-02</td>\n",
       "      <td>1.0</td>\n",
       "      <td>3</td>\n",
       "      <td>train</td>\n",
       "      <td>foo</td>\n",
       "    </tr>\n",
       "    <tr>\n",
       "      <th>2</th>\n",
       "      <td>1.0</td>\n",
       "      <td>2013-01-02</td>\n",
       "      <td>1.0</td>\n",
       "      <td>3</td>\n",
       "      <td>test</td>\n",
       "      <td>foo</td>\n",
       "    </tr>\n",
       "    <tr>\n",
       "      <th>3</th>\n",
       "      <td>1.0</td>\n",
       "      <td>2013-01-02</td>\n",
       "      <td>1.0</td>\n",
       "      <td>3</td>\n",
       "      <td>train</td>\n",
       "      <td>foo</td>\n",
       "    </tr>\n",
       "  </tbody>\n",
       "</table>\n",
       "</div>"
      ],
      "text/plain": [
       "     A          B    C  D      E    F\n",
       "0  1.0 2013-01-02  1.0  3   test  foo\n",
       "1  1.0 2013-01-02  1.0  3  train  foo\n",
       "2  1.0 2013-01-02  1.0  3   test  foo\n",
       "3  1.0 2013-01-02  1.0  3  train  foo"
      ]
     },
     "execution_count": 3,
     "metadata": {},
     "output_type": "execute_result"
    }
   ],
   "source": [
    "df2 = pd.DataFrame({\n",
    "    'A': 1.,\n",
    "    'B': pd.Timestamp('20130102'),\n",
    "    'C': pd.Series(1, index=list(range(4)), dtype='float32'),\n",
    "    'D': np.array([3] * 4, dtype='int32'),\n",
    "    'E': pd.Categorical([\"test\", \"train\", \"test\", \"train\"]),\n",
    "    'F': 'foo'\n",
    "}, index=list(range(4)))\n",
    "df2"
   ]
  },
  {
   "cell_type": "markdown",
   "id": "a090bfa42d4b4ad2",
   "metadata": {
    "collapsed": false
   },
   "source": [
    "### check the data types of the columns"
   ]
  },
  {
   "cell_type": "code",
   "execution_count": 4,
   "id": "95ff23d60ac96c95",
   "metadata": {
    "ExecuteTime": {
     "end_time": "2024-02-07T20:11:46.922229709Z",
     "start_time": "2024-02-07T20:11:46.892131284Z"
    },
    "collapsed": false
   },
   "outputs": [
    {
     "data": {
      "text/plain": [
       "A          float64\n",
       "B    datetime64[s]\n",
       "C          float32\n",
       "D            int32\n",
       "E         category\n",
       "F           object\n",
       "dtype: object"
      ]
     },
     "execution_count": 4,
     "metadata": {},
     "output_type": "execute_result"
    }
   ],
   "source": [
    "df2.dtypes"
   ]
  },
  {
   "cell_type": "markdown",
   "id": "536d323b0fffbacc",
   "metadata": {
    "collapsed": false
   },
   "source": [
    "### check the rows names (samples)"
   ]
  },
  {
   "cell_type": "code",
   "execution_count": 5,
   "id": "db81e91dd3966e99",
   "metadata": {
    "ExecuteTime": {
     "end_time": "2024-02-07T20:11:46.923964552Z",
     "start_time": "2024-02-07T20:11:46.892552289Z"
    },
    "collapsed": false
   },
   "outputs": [
    {
     "data": {
      "text/plain": [
       "Index([0, 1, 2, 3], dtype='int64')"
      ]
     },
     "execution_count": 5,
     "metadata": {},
     "output_type": "execute_result"
    }
   ],
   "source": [
    "df2.index"
   ]
  },
  {
   "cell_type": "markdown",
   "id": "63e7b818d22691ba",
   "metadata": {
    "collapsed": false
   },
   "source": [
    "### check the columns names (features)"
   ]
  },
  {
   "cell_type": "code",
   "execution_count": 6,
   "id": "a7baa28932db4ce0",
   "metadata": {
    "ExecuteTime": {
     "end_time": "2024-02-07T20:11:46.925467207Z",
     "start_time": "2024-02-07T20:11:46.893329615Z"
    },
    "collapsed": false
   },
   "outputs": [
    {
     "data": {
      "text/plain": [
       "Index(['A', 'B', 'C', 'D', 'E', 'F'], dtype='object')"
      ]
     },
     "execution_count": 6,
     "metadata": {},
     "output_type": "execute_result"
    }
   ],
   "source": [
    "df2.columns"
   ]
  },
  {
   "cell_type": "markdown",
   "id": "8e30fce1e94d5dac",
   "metadata": {
    "collapsed": false
   },
   "source": [
    "### check the values"
   ]
  },
  {
   "cell_type": "code",
   "execution_count": 7,
   "id": "e1c8c7b9fc52f4ff",
   "metadata": {
    "ExecuteTime": {
     "end_time": "2024-02-07T20:11:46.927969949Z",
     "start_time": "2024-02-07T20:11:46.896456404Z"
    },
    "collapsed": false
   },
   "outputs": [
    {
     "data": {
      "text/plain": [
       "array([[1.0, Timestamp('2013-01-02 00:00:00'), 1.0, 3, 'test', 'foo'],\n",
       "       [1.0, Timestamp('2013-01-02 00:00:00'), 1.0, 3, 'train', 'foo'],\n",
       "       [1.0, Timestamp('2013-01-02 00:00:00'), 1.0, 3, 'test', 'foo'],\n",
       "       [1.0, Timestamp('2013-01-02 00:00:00'), 1.0, 3, 'train', 'foo']],\n",
       "      dtype=object)"
      ]
     },
     "execution_count": 7,
     "metadata": {},
     "output_type": "execute_result"
    }
   ],
   "source": [
    "df2.values"
   ]
  },
  {
   "cell_type": "markdown",
   "id": "d9151f93220cc3bd",
   "metadata": {
    "collapsed": false
   },
   "source": [
    "### dataset shape and size"
   ]
  },
  {
   "cell_type": "code",
   "execution_count": 8,
   "id": "9d11f29c01973c2f",
   "metadata": {
    "ExecuteTime": {
     "end_time": "2024-02-07T20:11:47.457076663Z",
     "start_time": "2024-02-07T20:11:47.324291526Z"
    },
    "collapsed": false
   },
   "outputs": [
    {
     "data": {
      "text/plain": [
       "((4, 6), 24)"
      ]
     },
     "execution_count": 8,
     "metadata": {},
     "output_type": "execute_result"
    }
   ],
   "source": [
    "df2.shape, df2.size"
   ]
  },
  {
   "cell_type": "markdown",
   "id": "96171ffb15168db",
   "metadata": {
    "collapsed": false
   },
   "source": [
    "### check the first 2 rows"
   ]
  },
  {
   "cell_type": "code",
   "execution_count": 9,
   "id": "d2817adb21291e2",
   "metadata": {
    "ExecuteTime": {
     "end_time": "2024-02-07T20:11:48.017841135Z",
     "start_time": "2024-02-07T20:11:47.970685409Z"
    },
    "collapsed": false
   },
   "outputs": [
    {
     "data": {
      "text/html": [
       "<div>\n",
       "<style scoped>\n",
       "    .dataframe tbody tr th:only-of-type {\n",
       "        vertical-align: middle;\n",
       "    }\n",
       "\n",
       "    .dataframe tbody tr th {\n",
       "        vertical-align: top;\n",
       "    }\n",
       "\n",
       "    .dataframe thead th {\n",
       "        text-align: right;\n",
       "    }\n",
       "</style>\n",
       "<table border=\"1\" class=\"dataframe\">\n",
       "  <thead>\n",
       "    <tr style=\"text-align: right;\">\n",
       "      <th></th>\n",
       "      <th>A</th>\n",
       "      <th>B</th>\n",
       "      <th>C</th>\n",
       "      <th>D</th>\n",
       "      <th>E</th>\n",
       "      <th>F</th>\n",
       "    </tr>\n",
       "  </thead>\n",
       "  <tbody>\n",
       "    <tr>\n",
       "      <th>0</th>\n",
       "      <td>1.0</td>\n",
       "      <td>2013-01-02</td>\n",
       "      <td>1.0</td>\n",
       "      <td>3</td>\n",
       "      <td>test</td>\n",
       "      <td>foo</td>\n",
       "    </tr>\n",
       "    <tr>\n",
       "      <th>1</th>\n",
       "      <td>1.0</td>\n",
       "      <td>2013-01-02</td>\n",
       "      <td>1.0</td>\n",
       "      <td>3</td>\n",
       "      <td>train</td>\n",
       "      <td>foo</td>\n",
       "    </tr>\n",
       "  </tbody>\n",
       "</table>\n",
       "</div>"
      ],
      "text/plain": [
       "     A          B    C  D      E    F\n",
       "0  1.0 2013-01-02  1.0  3   test  foo\n",
       "1  1.0 2013-01-02  1.0  3  train  foo"
      ]
     },
     "execution_count": 9,
     "metadata": {},
     "output_type": "execute_result"
    }
   ],
   "source": [
    "df2.head(2)\n",
    "\n",
    "# or \n",
    "\n",
    "df2[:2]"
   ]
  },
  {
   "cell_type": "markdown",
   "id": "6c81fe0c6a86ee72",
   "metadata": {
    "collapsed": false
   },
   "source": [
    "### check the last 2 rows"
   ]
  },
  {
   "cell_type": "code",
   "execution_count": 10,
   "id": "e6d0041be14aade5",
   "metadata": {
    "ExecuteTime": {
     "end_time": "2024-02-07T20:11:48.788406606Z",
     "start_time": "2024-02-07T20:11:48.745430830Z"
    },
    "collapsed": false
   },
   "outputs": [
    {
     "data": {
      "text/html": [
       "<div>\n",
       "<style scoped>\n",
       "    .dataframe tbody tr th:only-of-type {\n",
       "        vertical-align: middle;\n",
       "    }\n",
       "\n",
       "    .dataframe tbody tr th {\n",
       "        vertical-align: top;\n",
       "    }\n",
       "\n",
       "    .dataframe thead th {\n",
       "        text-align: right;\n",
       "    }\n",
       "</style>\n",
       "<table border=\"1\" class=\"dataframe\">\n",
       "  <thead>\n",
       "    <tr style=\"text-align: right;\">\n",
       "      <th></th>\n",
       "      <th>A</th>\n",
       "      <th>B</th>\n",
       "      <th>C</th>\n",
       "      <th>D</th>\n",
       "      <th>E</th>\n",
       "      <th>F</th>\n",
       "    </tr>\n",
       "  </thead>\n",
       "  <tbody>\n",
       "    <tr>\n",
       "      <th>2</th>\n",
       "      <td>1.0</td>\n",
       "      <td>2013-01-02</td>\n",
       "      <td>1.0</td>\n",
       "      <td>3</td>\n",
       "      <td>test</td>\n",
       "      <td>foo</td>\n",
       "    </tr>\n",
       "    <tr>\n",
       "      <th>3</th>\n",
       "      <td>1.0</td>\n",
       "      <td>2013-01-02</td>\n",
       "      <td>1.0</td>\n",
       "      <td>3</td>\n",
       "      <td>train</td>\n",
       "      <td>foo</td>\n",
       "    </tr>\n",
       "  </tbody>\n",
       "</table>\n",
       "</div>"
      ],
      "text/plain": [
       "     A          B    C  D      E    F\n",
       "2  1.0 2013-01-02  1.0  3   test  foo\n",
       "3  1.0 2013-01-02  1.0  3  train  foo"
      ]
     },
     "execution_count": 10,
     "metadata": {},
     "output_type": "execute_result"
    }
   ],
   "source": [
    "df2.tail(2)\n",
    "\n",
    "# or\n",
    "\n",
    "df2[-2:]"
   ]
  },
  {
   "cell_type": "markdown",
   "id": "f33483c0a5df67a0",
   "metadata": {
    "collapsed": false
   },
   "source": [
    "### check the summary statistics"
   ]
  },
  {
   "cell_type": "code",
   "execution_count": 11,
   "id": "4d0456edf788f42d",
   "metadata": {
    "ExecuteTime": {
     "end_time": "2024-02-07T20:11:49.687343324Z",
     "start_time": "2024-02-07T20:11:49.630218036Z"
    },
    "collapsed": false
   },
   "outputs": [
    {
     "data": {
      "text/html": [
       "<div>\n",
       "<style scoped>\n",
       "    .dataframe tbody tr th:only-of-type {\n",
       "        vertical-align: middle;\n",
       "    }\n",
       "\n",
       "    .dataframe tbody tr th {\n",
       "        vertical-align: top;\n",
       "    }\n",
       "\n",
       "    .dataframe thead th {\n",
       "        text-align: right;\n",
       "    }\n",
       "</style>\n",
       "<table border=\"1\" class=\"dataframe\">\n",
       "  <thead>\n",
       "    <tr style=\"text-align: right;\">\n",
       "      <th></th>\n",
       "      <th>A</th>\n",
       "      <th>B</th>\n",
       "      <th>C</th>\n",
       "      <th>D</th>\n",
       "    </tr>\n",
       "  </thead>\n",
       "  <tbody>\n",
       "    <tr>\n",
       "      <th>count</th>\n",
       "      <td>4.0</td>\n",
       "      <td>4</td>\n",
       "      <td>4.0</td>\n",
       "      <td>4.0</td>\n",
       "    </tr>\n",
       "    <tr>\n",
       "      <th>mean</th>\n",
       "      <td>1.0</td>\n",
       "      <td>2013-01-02 00:00:00</td>\n",
       "      <td>1.0</td>\n",
       "      <td>3.0</td>\n",
       "    </tr>\n",
       "    <tr>\n",
       "      <th>min</th>\n",
       "      <td>1.0</td>\n",
       "      <td>2013-01-02 00:00:00</td>\n",
       "      <td>1.0</td>\n",
       "      <td>3.0</td>\n",
       "    </tr>\n",
       "    <tr>\n",
       "      <th>25%</th>\n",
       "      <td>1.0</td>\n",
       "      <td>2013-01-02 00:00:00</td>\n",
       "      <td>1.0</td>\n",
       "      <td>3.0</td>\n",
       "    </tr>\n",
       "    <tr>\n",
       "      <th>50%</th>\n",
       "      <td>1.0</td>\n",
       "      <td>2013-01-02 00:00:00</td>\n",
       "      <td>1.0</td>\n",
       "      <td>3.0</td>\n",
       "    </tr>\n",
       "    <tr>\n",
       "      <th>75%</th>\n",
       "      <td>1.0</td>\n",
       "      <td>2013-01-02 00:00:00</td>\n",
       "      <td>1.0</td>\n",
       "      <td>3.0</td>\n",
       "    </tr>\n",
       "    <tr>\n",
       "      <th>max</th>\n",
       "      <td>1.0</td>\n",
       "      <td>2013-01-02 00:00:00</td>\n",
       "      <td>1.0</td>\n",
       "      <td>3.0</td>\n",
       "    </tr>\n",
       "    <tr>\n",
       "      <th>std</th>\n",
       "      <td>0.0</td>\n",
       "      <td>NaN</td>\n",
       "      <td>0.0</td>\n",
       "      <td>0.0</td>\n",
       "    </tr>\n",
       "  </tbody>\n",
       "</table>\n",
       "</div>"
      ],
      "text/plain": [
       "         A                    B    C    D\n",
       "count  4.0                    4  4.0  4.0\n",
       "mean   1.0  2013-01-02 00:00:00  1.0  3.0\n",
       "min    1.0  2013-01-02 00:00:00  1.0  3.0\n",
       "25%    1.0  2013-01-02 00:00:00  1.0  3.0\n",
       "50%    1.0  2013-01-02 00:00:00  1.0  3.0\n",
       "75%    1.0  2013-01-02 00:00:00  1.0  3.0\n",
       "max    1.0  2013-01-02 00:00:00  1.0  3.0\n",
       "std    0.0                  NaN  0.0  0.0"
      ]
     },
     "execution_count": 11,
     "metadata": {},
     "output_type": "execute_result"
    }
   ],
   "source": [
    "df2.describe()"
   ]
  },
  {
   "cell_type": "code",
   "execution_count": 12,
   "id": "db4c5128e90ef388",
   "metadata": {
    "ExecuteTime": {
     "end_time": "2024-02-07T20:11:49.993980548Z",
     "start_time": "2024-02-07T20:11:49.945967346Z"
    },
    "collapsed": false
   },
   "outputs": [
    {
     "data": {
      "text/html": [
       "<div>\n",
       "<style scoped>\n",
       "    .dataframe tbody tr th:only-of-type {\n",
       "        vertical-align: middle;\n",
       "    }\n",
       "\n",
       "    .dataframe tbody tr th {\n",
       "        vertical-align: top;\n",
       "    }\n",
       "\n",
       "    .dataframe thead th {\n",
       "        text-align: right;\n",
       "    }\n",
       "</style>\n",
       "<table border=\"1\" class=\"dataframe\">\n",
       "  <thead>\n",
       "    <tr style=\"text-align: right;\">\n",
       "      <th></th>\n",
       "      <th>A</th>\n",
       "      <th>B</th>\n",
       "      <th>C</th>\n",
       "      <th>D</th>\n",
       "      <th>E</th>\n",
       "      <th>F</th>\n",
       "    </tr>\n",
       "  </thead>\n",
       "  <tbody>\n",
       "    <tr>\n",
       "      <th>count</th>\n",
       "      <td>4.0</td>\n",
       "      <td>4</td>\n",
       "      <td>4.0</td>\n",
       "      <td>4.0</td>\n",
       "      <td>4</td>\n",
       "      <td>4</td>\n",
       "    </tr>\n",
       "    <tr>\n",
       "      <th>unique</th>\n",
       "      <td>NaN</td>\n",
       "      <td>NaN</td>\n",
       "      <td>NaN</td>\n",
       "      <td>NaN</td>\n",
       "      <td>2</td>\n",
       "      <td>1</td>\n",
       "    </tr>\n",
       "    <tr>\n",
       "      <th>top</th>\n",
       "      <td>NaN</td>\n",
       "      <td>NaN</td>\n",
       "      <td>NaN</td>\n",
       "      <td>NaN</td>\n",
       "      <td>test</td>\n",
       "      <td>foo</td>\n",
       "    </tr>\n",
       "    <tr>\n",
       "      <th>freq</th>\n",
       "      <td>NaN</td>\n",
       "      <td>NaN</td>\n",
       "      <td>NaN</td>\n",
       "      <td>NaN</td>\n",
       "      <td>2</td>\n",
       "      <td>4</td>\n",
       "    </tr>\n",
       "    <tr>\n",
       "      <th>mean</th>\n",
       "      <td>1.0</td>\n",
       "      <td>2013-01-02 00:00:00</td>\n",
       "      <td>1.0</td>\n",
       "      <td>3.0</td>\n",
       "      <td>NaN</td>\n",
       "      <td>NaN</td>\n",
       "    </tr>\n",
       "    <tr>\n",
       "      <th>min</th>\n",
       "      <td>1.0</td>\n",
       "      <td>2013-01-02 00:00:00</td>\n",
       "      <td>1.0</td>\n",
       "      <td>3.0</td>\n",
       "      <td>NaN</td>\n",
       "      <td>NaN</td>\n",
       "    </tr>\n",
       "    <tr>\n",
       "      <th>25%</th>\n",
       "      <td>1.0</td>\n",
       "      <td>2013-01-02 00:00:00</td>\n",
       "      <td>1.0</td>\n",
       "      <td>3.0</td>\n",
       "      <td>NaN</td>\n",
       "      <td>NaN</td>\n",
       "    </tr>\n",
       "    <tr>\n",
       "      <th>50%</th>\n",
       "      <td>1.0</td>\n",
       "      <td>2013-01-02 00:00:00</td>\n",
       "      <td>1.0</td>\n",
       "      <td>3.0</td>\n",
       "      <td>NaN</td>\n",
       "      <td>NaN</td>\n",
       "    </tr>\n",
       "    <tr>\n",
       "      <th>75%</th>\n",
       "      <td>1.0</td>\n",
       "      <td>2013-01-02 00:00:00</td>\n",
       "      <td>1.0</td>\n",
       "      <td>3.0</td>\n",
       "      <td>NaN</td>\n",
       "      <td>NaN</td>\n",
       "    </tr>\n",
       "    <tr>\n",
       "      <th>max</th>\n",
       "      <td>1.0</td>\n",
       "      <td>2013-01-02 00:00:00</td>\n",
       "      <td>1.0</td>\n",
       "      <td>3.0</td>\n",
       "      <td>NaN</td>\n",
       "      <td>NaN</td>\n",
       "    </tr>\n",
       "    <tr>\n",
       "      <th>std</th>\n",
       "      <td>0.0</td>\n",
       "      <td>NaN</td>\n",
       "      <td>0.0</td>\n",
       "      <td>0.0</td>\n",
       "      <td>NaN</td>\n",
       "      <td>NaN</td>\n",
       "    </tr>\n",
       "  </tbody>\n",
       "</table>\n",
       "</div>"
      ],
      "text/plain": [
       "          A                    B    C    D     E    F\n",
       "count   4.0                    4  4.0  4.0     4    4\n",
       "unique  NaN                  NaN  NaN  NaN     2    1\n",
       "top     NaN                  NaN  NaN  NaN  test  foo\n",
       "freq    NaN                  NaN  NaN  NaN     2    4\n",
       "mean    1.0  2013-01-02 00:00:00  1.0  3.0   NaN  NaN\n",
       "min     1.0  2013-01-02 00:00:00  1.0  3.0   NaN  NaN\n",
       "25%     1.0  2013-01-02 00:00:00  1.0  3.0   NaN  NaN\n",
       "50%     1.0  2013-01-02 00:00:00  1.0  3.0   NaN  NaN\n",
       "75%     1.0  2013-01-02 00:00:00  1.0  3.0   NaN  NaN\n",
       "max     1.0  2013-01-02 00:00:00  1.0  3.0   NaN  NaN\n",
       "std     0.0                  NaN  0.0  0.0   NaN  NaN"
      ]
     },
     "execution_count": 12,
     "metadata": {},
     "output_type": "execute_result"
    }
   ],
   "source": [
    "df2.describe(include='all')"
   ]
  },
  {
   "cell_type": "code",
   "execution_count": 13,
   "id": "439e89f0bb14512b",
   "metadata": {
    "ExecuteTime": {
     "end_time": "2024-02-07T20:11:50.268332135Z",
     "start_time": "2024-02-07T20:11:50.182487650Z"
    },
    "collapsed": false
   },
   "outputs": [
    {
     "data": {
      "text/html": [
       "<div>\n",
       "<style scoped>\n",
       "    .dataframe tbody tr th:only-of-type {\n",
       "        vertical-align: middle;\n",
       "    }\n",
       "\n",
       "    .dataframe tbody tr th {\n",
       "        vertical-align: top;\n",
       "    }\n",
       "\n",
       "    .dataframe thead th {\n",
       "        text-align: right;\n",
       "    }\n",
       "</style>\n",
       "<table border=\"1\" class=\"dataframe\">\n",
       "  <thead>\n",
       "    <tr style=\"text-align: right;\">\n",
       "      <th></th>\n",
       "      <th>A</th>\n",
       "      <th>C</th>\n",
       "      <th>D</th>\n",
       "    </tr>\n",
       "  </thead>\n",
       "  <tbody>\n",
       "    <tr>\n",
       "      <th>count</th>\n",
       "      <td>4.0</td>\n",
       "      <td>4.0</td>\n",
       "      <td>4.0</td>\n",
       "    </tr>\n",
       "    <tr>\n",
       "      <th>mean</th>\n",
       "      <td>1.0</td>\n",
       "      <td>1.0</td>\n",
       "      <td>3.0</td>\n",
       "    </tr>\n",
       "    <tr>\n",
       "      <th>std</th>\n",
       "      <td>0.0</td>\n",
       "      <td>0.0</td>\n",
       "      <td>0.0</td>\n",
       "    </tr>\n",
       "    <tr>\n",
       "      <th>min</th>\n",
       "      <td>1.0</td>\n",
       "      <td>1.0</td>\n",
       "      <td>3.0</td>\n",
       "    </tr>\n",
       "    <tr>\n",
       "      <th>25%</th>\n",
       "      <td>1.0</td>\n",
       "      <td>1.0</td>\n",
       "      <td>3.0</td>\n",
       "    </tr>\n",
       "    <tr>\n",
       "      <th>50%</th>\n",
       "      <td>1.0</td>\n",
       "      <td>1.0</td>\n",
       "      <td>3.0</td>\n",
       "    </tr>\n",
       "    <tr>\n",
       "      <th>75%</th>\n",
       "      <td>1.0</td>\n",
       "      <td>1.0</td>\n",
       "      <td>3.0</td>\n",
       "    </tr>\n",
       "    <tr>\n",
       "      <th>max</th>\n",
       "      <td>1.0</td>\n",
       "      <td>1.0</td>\n",
       "      <td>3.0</td>\n",
       "    </tr>\n",
       "  </tbody>\n",
       "</table>\n",
       "</div>"
      ],
      "text/plain": [
       "         A    C    D\n",
       "count  4.0  4.0  4.0\n",
       "mean   1.0  1.0  3.0\n",
       "std    0.0  0.0  0.0\n",
       "min    1.0  1.0  3.0\n",
       "25%    1.0  1.0  3.0\n",
       "50%    1.0  1.0  3.0\n",
       "75%    1.0  1.0  3.0\n",
       "max    1.0  1.0  3.0"
      ]
     },
     "execution_count": 13,
     "metadata": {},
     "output_type": "execute_result"
    }
   ],
   "source": [
    "df2.describe(include=[np.number])"
   ]
  },
  {
   "cell_type": "markdown",
   "id": "4a91e75849397d5c",
   "metadata": {
    "collapsed": false
   },
   "source": [
    "## read a csv file"
   ]
  },
  {
   "cell_type": "code",
   "execution_count": 14,
   "id": "f653c1f5cc717e1d",
   "metadata": {
    "ExecuteTime": {
     "end_time": "2024-02-07T20:11:50.989609479Z",
     "start_time": "2024-02-07T20:11:50.610461503Z"
    },
    "collapsed": false
   },
   "outputs": [
    {
     "ename": "FileNotFoundError",
     "evalue": "[Errno 2] No such file or directory: 'data/exxample_data.csv'",
     "output_type": "error",
     "traceback": [
      "\u001b[0;31m---------------------------------------------------------------------------\u001b[0m",
      "\u001b[0;31mFileNotFoundError\u001b[0m                         Traceback (most recent call last)",
      "Cell \u001b[0;32mIn[14], line 1\u001b[0m\n\u001b[0;32m----> 1\u001b[0m df3 \u001b[38;5;241m=\u001b[39m \u001b[43mpd\u001b[49m\u001b[38;5;241;43m.\u001b[39;49m\u001b[43mread_csv\u001b[49m\u001b[43m(\u001b[49m\u001b[38;5;124;43m'\u001b[39;49m\u001b[38;5;124;43mdata/exxample_data.csv\u001b[39;49m\u001b[38;5;124;43m'\u001b[39;49m\u001b[43m,\u001b[49m\u001b[43m \u001b[49m\u001b[43mindex_col\u001b[49m\u001b[38;5;241;43m=\u001b[39;49m\u001b[38;5;241;43m0\u001b[39;49m\u001b[43m,\u001b[49m\u001b[43m \u001b[49m\u001b[43mheader\u001b[49m\u001b[38;5;241;43m=\u001b[39;49m\u001b[38;5;241;43m0\u001b[39;49m\u001b[43m,\u001b[49m\u001b[43m \u001b[49m\u001b[43msep\u001b[49m\u001b[38;5;241;43m=\u001b[39;49m\u001b[38;5;124;43m'\u001b[39;49m\u001b[38;5;124;43m,\u001b[39;49m\u001b[38;5;124;43m'\u001b[39;49m\u001b[43m)\u001b[49m\n",
      "File \u001b[0;32m~/anaconda3/envs/ML_ADS/lib/python3.10/site-packages/pandas/io/parsers/readers.py:948\u001b[0m, in \u001b[0;36mread_csv\u001b[0;34m(filepath_or_buffer, sep, delimiter, header, names, index_col, usecols, dtype, engine, converters, true_values, false_values, skipinitialspace, skiprows, skipfooter, nrows, na_values, keep_default_na, na_filter, verbose, skip_blank_lines, parse_dates, infer_datetime_format, keep_date_col, date_parser, date_format, dayfirst, cache_dates, iterator, chunksize, compression, thousands, decimal, lineterminator, quotechar, quoting, doublequote, escapechar, comment, encoding, encoding_errors, dialect, on_bad_lines, delim_whitespace, low_memory, memory_map, float_precision, storage_options, dtype_backend)\u001b[0m\n\u001b[1;32m    935\u001b[0m kwds_defaults \u001b[38;5;241m=\u001b[39m _refine_defaults_read(\n\u001b[1;32m    936\u001b[0m     dialect,\n\u001b[1;32m    937\u001b[0m     delimiter,\n\u001b[0;32m   (...)\u001b[0m\n\u001b[1;32m    944\u001b[0m     dtype_backend\u001b[38;5;241m=\u001b[39mdtype_backend,\n\u001b[1;32m    945\u001b[0m )\n\u001b[1;32m    946\u001b[0m kwds\u001b[38;5;241m.\u001b[39mupdate(kwds_defaults)\n\u001b[0;32m--> 948\u001b[0m \u001b[38;5;28;01mreturn\u001b[39;00m \u001b[43m_read\u001b[49m\u001b[43m(\u001b[49m\u001b[43mfilepath_or_buffer\u001b[49m\u001b[43m,\u001b[49m\u001b[43m \u001b[49m\u001b[43mkwds\u001b[49m\u001b[43m)\u001b[49m\n",
      "File \u001b[0;32m~/anaconda3/envs/ML_ADS/lib/python3.10/site-packages/pandas/io/parsers/readers.py:611\u001b[0m, in \u001b[0;36m_read\u001b[0;34m(filepath_or_buffer, kwds)\u001b[0m\n\u001b[1;32m    608\u001b[0m _validate_names(kwds\u001b[38;5;241m.\u001b[39mget(\u001b[38;5;124m\"\u001b[39m\u001b[38;5;124mnames\u001b[39m\u001b[38;5;124m\"\u001b[39m, \u001b[38;5;28;01mNone\u001b[39;00m))\n\u001b[1;32m    610\u001b[0m \u001b[38;5;66;03m# Create the parser.\u001b[39;00m\n\u001b[0;32m--> 611\u001b[0m parser \u001b[38;5;241m=\u001b[39m \u001b[43mTextFileReader\u001b[49m\u001b[43m(\u001b[49m\u001b[43mfilepath_or_buffer\u001b[49m\u001b[43m,\u001b[49m\u001b[43m \u001b[49m\u001b[38;5;241;43m*\u001b[39;49m\u001b[38;5;241;43m*\u001b[39;49m\u001b[43mkwds\u001b[49m\u001b[43m)\u001b[49m\n\u001b[1;32m    613\u001b[0m \u001b[38;5;28;01mif\u001b[39;00m chunksize \u001b[38;5;129;01mor\u001b[39;00m iterator:\n\u001b[1;32m    614\u001b[0m     \u001b[38;5;28;01mreturn\u001b[39;00m parser\n",
      "File \u001b[0;32m~/anaconda3/envs/ML_ADS/lib/python3.10/site-packages/pandas/io/parsers/readers.py:1448\u001b[0m, in \u001b[0;36mTextFileReader.__init__\u001b[0;34m(self, f, engine, **kwds)\u001b[0m\n\u001b[1;32m   1445\u001b[0m     \u001b[38;5;28mself\u001b[39m\u001b[38;5;241m.\u001b[39moptions[\u001b[38;5;124m\"\u001b[39m\u001b[38;5;124mhas_index_names\u001b[39m\u001b[38;5;124m\"\u001b[39m] \u001b[38;5;241m=\u001b[39m kwds[\u001b[38;5;124m\"\u001b[39m\u001b[38;5;124mhas_index_names\u001b[39m\u001b[38;5;124m\"\u001b[39m]\n\u001b[1;32m   1447\u001b[0m \u001b[38;5;28mself\u001b[39m\u001b[38;5;241m.\u001b[39mhandles: IOHandles \u001b[38;5;241m|\u001b[39m \u001b[38;5;28;01mNone\u001b[39;00m \u001b[38;5;241m=\u001b[39m \u001b[38;5;28;01mNone\u001b[39;00m\n\u001b[0;32m-> 1448\u001b[0m \u001b[38;5;28mself\u001b[39m\u001b[38;5;241m.\u001b[39m_engine \u001b[38;5;241m=\u001b[39m \u001b[38;5;28;43mself\u001b[39;49m\u001b[38;5;241;43m.\u001b[39;49m\u001b[43m_make_engine\u001b[49m\u001b[43m(\u001b[49m\u001b[43mf\u001b[49m\u001b[43m,\u001b[49m\u001b[43m \u001b[49m\u001b[38;5;28;43mself\u001b[39;49m\u001b[38;5;241;43m.\u001b[39;49m\u001b[43mengine\u001b[49m\u001b[43m)\u001b[49m\n",
      "File \u001b[0;32m~/anaconda3/envs/ML_ADS/lib/python3.10/site-packages/pandas/io/parsers/readers.py:1705\u001b[0m, in \u001b[0;36mTextFileReader._make_engine\u001b[0;34m(self, f, engine)\u001b[0m\n\u001b[1;32m   1703\u001b[0m     \u001b[38;5;28;01mif\u001b[39;00m \u001b[38;5;124m\"\u001b[39m\u001b[38;5;124mb\u001b[39m\u001b[38;5;124m\"\u001b[39m \u001b[38;5;129;01mnot\u001b[39;00m \u001b[38;5;129;01min\u001b[39;00m mode:\n\u001b[1;32m   1704\u001b[0m         mode \u001b[38;5;241m+\u001b[39m\u001b[38;5;241m=\u001b[39m \u001b[38;5;124m\"\u001b[39m\u001b[38;5;124mb\u001b[39m\u001b[38;5;124m\"\u001b[39m\n\u001b[0;32m-> 1705\u001b[0m \u001b[38;5;28mself\u001b[39m\u001b[38;5;241m.\u001b[39mhandles \u001b[38;5;241m=\u001b[39m \u001b[43mget_handle\u001b[49m\u001b[43m(\u001b[49m\n\u001b[1;32m   1706\u001b[0m \u001b[43m    \u001b[49m\u001b[43mf\u001b[49m\u001b[43m,\u001b[49m\n\u001b[1;32m   1707\u001b[0m \u001b[43m    \u001b[49m\u001b[43mmode\u001b[49m\u001b[43m,\u001b[49m\n\u001b[1;32m   1708\u001b[0m \u001b[43m    \u001b[49m\u001b[43mencoding\u001b[49m\u001b[38;5;241;43m=\u001b[39;49m\u001b[38;5;28;43mself\u001b[39;49m\u001b[38;5;241;43m.\u001b[39;49m\u001b[43moptions\u001b[49m\u001b[38;5;241;43m.\u001b[39;49m\u001b[43mget\u001b[49m\u001b[43m(\u001b[49m\u001b[38;5;124;43m\"\u001b[39;49m\u001b[38;5;124;43mencoding\u001b[39;49m\u001b[38;5;124;43m\"\u001b[39;49m\u001b[43m,\u001b[49m\u001b[43m \u001b[49m\u001b[38;5;28;43;01mNone\u001b[39;49;00m\u001b[43m)\u001b[49m\u001b[43m,\u001b[49m\n\u001b[1;32m   1709\u001b[0m \u001b[43m    \u001b[49m\u001b[43mcompression\u001b[49m\u001b[38;5;241;43m=\u001b[39;49m\u001b[38;5;28;43mself\u001b[39;49m\u001b[38;5;241;43m.\u001b[39;49m\u001b[43moptions\u001b[49m\u001b[38;5;241;43m.\u001b[39;49m\u001b[43mget\u001b[49m\u001b[43m(\u001b[49m\u001b[38;5;124;43m\"\u001b[39;49m\u001b[38;5;124;43mcompression\u001b[39;49m\u001b[38;5;124;43m\"\u001b[39;49m\u001b[43m,\u001b[49m\u001b[43m \u001b[49m\u001b[38;5;28;43;01mNone\u001b[39;49;00m\u001b[43m)\u001b[49m\u001b[43m,\u001b[49m\n\u001b[1;32m   1710\u001b[0m \u001b[43m    \u001b[49m\u001b[43mmemory_map\u001b[49m\u001b[38;5;241;43m=\u001b[39;49m\u001b[38;5;28;43mself\u001b[39;49m\u001b[38;5;241;43m.\u001b[39;49m\u001b[43moptions\u001b[49m\u001b[38;5;241;43m.\u001b[39;49m\u001b[43mget\u001b[49m\u001b[43m(\u001b[49m\u001b[38;5;124;43m\"\u001b[39;49m\u001b[38;5;124;43mmemory_map\u001b[39;49m\u001b[38;5;124;43m\"\u001b[39;49m\u001b[43m,\u001b[49m\u001b[43m \u001b[49m\u001b[38;5;28;43;01mFalse\u001b[39;49;00m\u001b[43m)\u001b[49m\u001b[43m,\u001b[49m\n\u001b[1;32m   1711\u001b[0m \u001b[43m    \u001b[49m\u001b[43mis_text\u001b[49m\u001b[38;5;241;43m=\u001b[39;49m\u001b[43mis_text\u001b[49m\u001b[43m,\u001b[49m\n\u001b[1;32m   1712\u001b[0m \u001b[43m    \u001b[49m\u001b[43merrors\u001b[49m\u001b[38;5;241;43m=\u001b[39;49m\u001b[38;5;28;43mself\u001b[39;49m\u001b[38;5;241;43m.\u001b[39;49m\u001b[43moptions\u001b[49m\u001b[38;5;241;43m.\u001b[39;49m\u001b[43mget\u001b[49m\u001b[43m(\u001b[49m\u001b[38;5;124;43m\"\u001b[39;49m\u001b[38;5;124;43mencoding_errors\u001b[39;49m\u001b[38;5;124;43m\"\u001b[39;49m\u001b[43m,\u001b[49m\u001b[43m \u001b[49m\u001b[38;5;124;43m\"\u001b[39;49m\u001b[38;5;124;43mstrict\u001b[39;49m\u001b[38;5;124;43m\"\u001b[39;49m\u001b[43m)\u001b[49m\u001b[43m,\u001b[49m\n\u001b[1;32m   1713\u001b[0m \u001b[43m    \u001b[49m\u001b[43mstorage_options\u001b[49m\u001b[38;5;241;43m=\u001b[39;49m\u001b[38;5;28;43mself\u001b[39;49m\u001b[38;5;241;43m.\u001b[39;49m\u001b[43moptions\u001b[49m\u001b[38;5;241;43m.\u001b[39;49m\u001b[43mget\u001b[49m\u001b[43m(\u001b[49m\u001b[38;5;124;43m\"\u001b[39;49m\u001b[38;5;124;43mstorage_options\u001b[39;49m\u001b[38;5;124;43m\"\u001b[39;49m\u001b[43m,\u001b[49m\u001b[43m \u001b[49m\u001b[38;5;28;43;01mNone\u001b[39;49;00m\u001b[43m)\u001b[49m\u001b[43m,\u001b[49m\n\u001b[1;32m   1714\u001b[0m \u001b[43m\u001b[49m\u001b[43m)\u001b[49m\n\u001b[1;32m   1715\u001b[0m \u001b[38;5;28;01massert\u001b[39;00m \u001b[38;5;28mself\u001b[39m\u001b[38;5;241m.\u001b[39mhandles \u001b[38;5;129;01mis\u001b[39;00m \u001b[38;5;129;01mnot\u001b[39;00m \u001b[38;5;28;01mNone\u001b[39;00m\n\u001b[1;32m   1716\u001b[0m f \u001b[38;5;241m=\u001b[39m \u001b[38;5;28mself\u001b[39m\u001b[38;5;241m.\u001b[39mhandles\u001b[38;5;241m.\u001b[39mhandle\n",
      "File \u001b[0;32m~/anaconda3/envs/ML_ADS/lib/python3.10/site-packages/pandas/io/common.py:863\u001b[0m, in \u001b[0;36mget_handle\u001b[0;34m(path_or_buf, mode, encoding, compression, memory_map, is_text, errors, storage_options)\u001b[0m\n\u001b[1;32m    858\u001b[0m \u001b[38;5;28;01melif\u001b[39;00m \u001b[38;5;28misinstance\u001b[39m(handle, \u001b[38;5;28mstr\u001b[39m):\n\u001b[1;32m    859\u001b[0m     \u001b[38;5;66;03m# Check whether the filename is to be opened in binary mode.\u001b[39;00m\n\u001b[1;32m    860\u001b[0m     \u001b[38;5;66;03m# Binary mode does not support 'encoding' and 'newline'.\u001b[39;00m\n\u001b[1;32m    861\u001b[0m     \u001b[38;5;28;01mif\u001b[39;00m ioargs\u001b[38;5;241m.\u001b[39mencoding \u001b[38;5;129;01mand\u001b[39;00m \u001b[38;5;124m\"\u001b[39m\u001b[38;5;124mb\u001b[39m\u001b[38;5;124m\"\u001b[39m \u001b[38;5;129;01mnot\u001b[39;00m \u001b[38;5;129;01min\u001b[39;00m ioargs\u001b[38;5;241m.\u001b[39mmode:\n\u001b[1;32m    862\u001b[0m         \u001b[38;5;66;03m# Encoding\u001b[39;00m\n\u001b[0;32m--> 863\u001b[0m         handle \u001b[38;5;241m=\u001b[39m \u001b[38;5;28;43mopen\u001b[39;49m\u001b[43m(\u001b[49m\n\u001b[1;32m    864\u001b[0m \u001b[43m            \u001b[49m\u001b[43mhandle\u001b[49m\u001b[43m,\u001b[49m\n\u001b[1;32m    865\u001b[0m \u001b[43m            \u001b[49m\u001b[43mioargs\u001b[49m\u001b[38;5;241;43m.\u001b[39;49m\u001b[43mmode\u001b[49m\u001b[43m,\u001b[49m\n\u001b[1;32m    866\u001b[0m \u001b[43m            \u001b[49m\u001b[43mencoding\u001b[49m\u001b[38;5;241;43m=\u001b[39;49m\u001b[43mioargs\u001b[49m\u001b[38;5;241;43m.\u001b[39;49m\u001b[43mencoding\u001b[49m\u001b[43m,\u001b[49m\n\u001b[1;32m    867\u001b[0m \u001b[43m            \u001b[49m\u001b[43merrors\u001b[49m\u001b[38;5;241;43m=\u001b[39;49m\u001b[43merrors\u001b[49m\u001b[43m,\u001b[49m\n\u001b[1;32m    868\u001b[0m \u001b[43m            \u001b[49m\u001b[43mnewline\u001b[49m\u001b[38;5;241;43m=\u001b[39;49m\u001b[38;5;124;43m\"\u001b[39;49m\u001b[38;5;124;43m\"\u001b[39;49m\u001b[43m,\u001b[49m\n\u001b[1;32m    869\u001b[0m \u001b[43m        \u001b[49m\u001b[43m)\u001b[49m\n\u001b[1;32m    870\u001b[0m     \u001b[38;5;28;01melse\u001b[39;00m:\n\u001b[1;32m    871\u001b[0m         \u001b[38;5;66;03m# Binary mode\u001b[39;00m\n\u001b[1;32m    872\u001b[0m         handle \u001b[38;5;241m=\u001b[39m \u001b[38;5;28mopen\u001b[39m(handle, ioargs\u001b[38;5;241m.\u001b[39mmode)\n",
      "\u001b[0;31mFileNotFoundError\u001b[0m: [Errno 2] No such file or directory: 'data/exxample_data.csv'"
     ]
    }
   ],
   "source": [
    "df3 = pd.read_csv('data/exxample_data.csv', index_col=0, header=0, sep=',')"
   ]
  },
  {
   "cell_type": "markdown",
   "id": "f74ee1ce645b3f97",
   "metadata": {
    "collapsed": false
   },
   "source": [
    "### save the dataframe to a csv file"
   ]
  },
  {
   "cell_type": "code",
   "execution_count": null,
   "id": "9c85ebf77cea4493",
   "metadata": {
    "ExecuteTime": {
     "start_time": "2024-02-07T20:11:50.989007623Z"
    },
    "collapsed": false
   },
   "outputs": [],
   "source": [
    "df3.to_csv('data/example_data.csv')"
   ]
  },
  {
   "cell_type": "markdown",
   "id": "827b119846ef75ce",
   "metadata": {
    "collapsed": false
   },
   "source": [
    "## Missing data"
   ]
  },
  {
   "cell_type": "code",
   "execution_count": 15,
   "id": "51e325d57965f1f3",
   "metadata": {
    "ExecuteTime": {
     "end_time": "2024-02-07T20:11:51.358036596Z",
     "start_time": "2024-02-07T20:11:51.302086880Z"
    },
    "collapsed": false
   },
   "outputs": [
    {
     "data": {
      "text/html": [
       "<div>\n",
       "<style scoped>\n",
       "    .dataframe tbody tr th:only-of-type {\n",
       "        vertical-align: middle;\n",
       "    }\n",
       "\n",
       "    .dataframe tbody tr th {\n",
       "        vertical-align: top;\n",
       "    }\n",
       "\n",
       "    .dataframe thead th {\n",
       "        text-align: right;\n",
       "    }\n",
       "</style>\n",
       "<table border=\"1\" class=\"dataframe\">\n",
       "  <thead>\n",
       "    <tr style=\"text-align: right;\">\n",
       "      <th></th>\n",
       "      <th>A</th>\n",
       "      <th>B</th>\n",
       "      <th>C</th>\n",
       "      <th>D</th>\n",
       "      <th>E</th>\n",
       "    </tr>\n",
       "  </thead>\n",
       "  <tbody>\n",
       "    <tr>\n",
       "      <th>0</th>\n",
       "      <td>NaN</td>\n",
       "      <td>NaN</td>\n",
       "      <td>NaN</td>\n",
       "      <td>NaN</td>\n",
       "      <td>-0.455692</td>\n",
       "    </tr>\n",
       "    <tr>\n",
       "      <th>1</th>\n",
       "      <td>-0.847524</td>\n",
       "      <td>-0.539101</td>\n",
       "      <td>0.039715</td>\n",
       "      <td>0.062924</td>\n",
       "      <td>0.063662</td>\n",
       "    </tr>\n",
       "    <tr>\n",
       "      <th>2</th>\n",
       "      <td>0.616525</td>\n",
       "      <td>0.341849</td>\n",
       "      <td>-1.020932</td>\n",
       "      <td>-1.125998</td>\n",
       "      <td>-1.060317</td>\n",
       "    </tr>\n",
       "    <tr>\n",
       "      <th>3</th>\n",
       "      <td>1.987212</td>\n",
       "      <td>NaN</td>\n",
       "      <td>0.658694</td>\n",
       "      <td>0.703849</td>\n",
       "      <td>1.034852</td>\n",
       "    </tr>\n",
       "    <tr>\n",
       "      <th>4</th>\n",
       "      <td>0.481938</td>\n",
       "      <td>-1.527169</td>\n",
       "      <td>NaN</td>\n",
       "      <td>0.983536</td>\n",
       "      <td>0.062352</td>\n",
       "    </tr>\n",
       "    <tr>\n",
       "      <th>5</th>\n",
       "      <td>NaN</td>\n",
       "      <td>-0.370082</td>\n",
       "      <td>-0.045308</td>\n",
       "      <td>0.480935</td>\n",
       "      <td>0.338193</td>\n",
       "    </tr>\n",
       "    <tr>\n",
       "      <th>6</th>\n",
       "      <td>-0.388989</td>\n",
       "      <td>NaN</td>\n",
       "      <td>-1.381707</td>\n",
       "      <td>NaN</td>\n",
       "      <td>1.075858</td>\n",
       "    </tr>\n",
       "    <tr>\n",
       "      <th>7</th>\n",
       "      <td>-1.039196</td>\n",
       "      <td>0.228237</td>\n",
       "      <td>-2.107756</td>\n",
       "      <td>-1.272633</td>\n",
       "      <td>-0.837189</td>\n",
       "    </tr>\n",
       "    <tr>\n",
       "      <th>8</th>\n",
       "      <td>-0.654426</td>\n",
       "      <td>-0.847466</td>\n",
       "      <td>NaN</td>\n",
       "      <td>-1.142761</td>\n",
       "      <td>-0.133406</td>\n",
       "    </tr>\n",
       "    <tr>\n",
       "      <th>9</th>\n",
       "      <td>1.343383</td>\n",
       "      <td>NaN</td>\n",
       "      <td>1.898495</td>\n",
       "      <td>0.723508</td>\n",
       "      <td>0.163324</td>\n",
       "    </tr>\n",
       "  </tbody>\n",
       "</table>\n",
       "</div>"
      ],
      "text/plain": [
       "          A         B         C         D         E\n",
       "0       NaN       NaN       NaN       NaN -0.455692\n",
       "1 -0.847524 -0.539101  0.039715  0.062924  0.063662\n",
       "2  0.616525  0.341849 -1.020932 -1.125998 -1.060317\n",
       "3  1.987212       NaN  0.658694  0.703849  1.034852\n",
       "4  0.481938 -1.527169       NaN  0.983536  0.062352\n",
       "5       NaN -0.370082 -0.045308  0.480935  0.338193\n",
       "6 -0.388989       NaN -1.381707       NaN  1.075858\n",
       "7 -1.039196  0.228237 -2.107756 -1.272633 -0.837189\n",
       "8 -0.654426 -0.847466       NaN -1.142761 -0.133406\n",
       "9  1.343383       NaN  1.898495  0.723508  0.163324"
      ]
     },
     "execution_count": 15,
     "metadata": {},
     "output_type": "execute_result"
    }
   ],
   "source": [
    "# create a dataframe with missing data (150 samples and 5 features)\n",
    "df_missing = pd.DataFrame(np.random.randn(150, 5), columns=['A', 'B', 'C', 'D', 'E'])\n",
    "# random missing values in different columns\n",
    "df_missing.loc[::5, 'A'] = np.nan # every 5th value in column A is missing\n",
    "df_missing.loc[::3, 'B'] = np.nan # every 3rd value in column B is missing\n",
    "df_missing.loc[::4, 'C'] = np.nan # every 4th value in column C is missing\n",
    "df_missing.loc[::6, 'D'] = np.nan # every 6th value in column D is missing\n",
    "\n",
    "df_missing.head(10)"
   ]
  },
  {
   "cell_type": "markdown",
   "id": "36cf5a0cadf47c3c",
   "metadata": {
    "collapsed": false
   },
   "source": [
    "### check the missing values"
   ]
  },
  {
   "cell_type": "code",
   "execution_count": 16,
   "id": "bc5a920de930c84e",
   "metadata": {
    "ExecuteTime": {
     "end_time": "2024-02-07T20:11:51.713467821Z",
     "start_time": "2024-02-07T20:11:51.648545645Z"
    },
    "collapsed": false
   },
   "outputs": [
    {
     "data": {
      "text/plain": [
       "A    30\n",
       "B    50\n",
       "C    38\n",
       "D    25\n",
       "E     0\n",
       "dtype: int64"
      ]
     },
     "execution_count": 16,
     "metadata": {},
     "output_type": "execute_result"
    }
   ],
   "source": [
    "df_missing.isnull().sum()"
   ]
  },
  {
   "cell_type": "markdown",
   "id": "3b953fe60edd3e94",
   "metadata": {
    "collapsed": false
   },
   "source": [
    "### drop the rows with missing values"
   ]
  },
  {
   "cell_type": "code",
   "execution_count": 17,
   "id": "57a9d8d5a2c9c492",
   "metadata": {
    "ExecuteTime": {
     "end_time": "2024-02-07T20:11:52.070599764Z",
     "start_time": "2024-02-07T20:11:52.038612985Z"
    },
    "collapsed": false
   },
   "outputs": [
    {
     "data": {
      "text/html": [
       "<div>\n",
       "<style scoped>\n",
       "    .dataframe tbody tr th:only-of-type {\n",
       "        vertical-align: middle;\n",
       "    }\n",
       "\n",
       "    .dataframe tbody tr th {\n",
       "        vertical-align: top;\n",
       "    }\n",
       "\n",
       "    .dataframe thead th {\n",
       "        text-align: right;\n",
       "    }\n",
       "</style>\n",
       "<table border=\"1\" class=\"dataframe\">\n",
       "  <thead>\n",
       "    <tr style=\"text-align: right;\">\n",
       "      <th></th>\n",
       "      <th>A</th>\n",
       "      <th>B</th>\n",
       "      <th>C</th>\n",
       "      <th>D</th>\n",
       "      <th>E</th>\n",
       "    </tr>\n",
       "  </thead>\n",
       "  <tbody>\n",
       "    <tr>\n",
       "      <th>1</th>\n",
       "      <td>-0.847524</td>\n",
       "      <td>-0.539101</td>\n",
       "      <td>0.039715</td>\n",
       "      <td>0.062924</td>\n",
       "      <td>0.063662</td>\n",
       "    </tr>\n",
       "    <tr>\n",
       "      <th>2</th>\n",
       "      <td>0.616525</td>\n",
       "      <td>0.341849</td>\n",
       "      <td>-1.020932</td>\n",
       "      <td>-1.125998</td>\n",
       "      <td>-1.060317</td>\n",
       "    </tr>\n",
       "    <tr>\n",
       "      <th>7</th>\n",
       "      <td>-1.039196</td>\n",
       "      <td>0.228237</td>\n",
       "      <td>-2.107756</td>\n",
       "      <td>-1.272633</td>\n",
       "      <td>-0.837189</td>\n",
       "    </tr>\n",
       "    <tr>\n",
       "      <th>11</th>\n",
       "      <td>-1.675578</td>\n",
       "      <td>0.796555</td>\n",
       "      <td>1.342759</td>\n",
       "      <td>-0.102713</td>\n",
       "      <td>-0.398467</td>\n",
       "    </tr>\n",
       "    <tr>\n",
       "      <th>13</th>\n",
       "      <td>0.283476</td>\n",
       "      <td>-0.596936</td>\n",
       "      <td>0.864663</td>\n",
       "      <td>-0.964457</td>\n",
       "      <td>0.672835</td>\n",
       "    </tr>\n",
       "    <tr>\n",
       "      <th>14</th>\n",
       "      <td>1.556229</td>\n",
       "      <td>0.893049</td>\n",
       "      <td>-0.422731</td>\n",
       "      <td>-1.806348</td>\n",
       "      <td>2.670318</td>\n",
       "    </tr>\n",
       "    <tr>\n",
       "      <th>17</th>\n",
       "      <td>1.625067</td>\n",
       "      <td>-1.460898</td>\n",
       "      <td>-0.555522</td>\n",
       "      <td>0.221300</td>\n",
       "      <td>-0.813732</td>\n",
       "    </tr>\n",
       "    <tr>\n",
       "      <th>19</th>\n",
       "      <td>-0.861862</td>\n",
       "      <td>1.318282</td>\n",
       "      <td>-0.702961</td>\n",
       "      <td>0.220646</td>\n",
       "      <td>-0.267139</td>\n",
       "    </tr>\n",
       "    <tr>\n",
       "      <th>22</th>\n",
       "      <td>0.175287</td>\n",
       "      <td>0.672433</td>\n",
       "      <td>-1.021211</td>\n",
       "      <td>0.943533</td>\n",
       "      <td>-0.055009</td>\n",
       "    </tr>\n",
       "    <tr>\n",
       "      <th>23</th>\n",
       "      <td>-0.494689</td>\n",
       "      <td>0.358090</td>\n",
       "      <td>-1.329082</td>\n",
       "      <td>1.241389</td>\n",
       "      <td>-0.801836</td>\n",
       "    </tr>\n",
       "  </tbody>\n",
       "</table>\n",
       "</div>"
      ],
      "text/plain": [
       "           A         B         C         D         E\n",
       "1  -0.847524 -0.539101  0.039715  0.062924  0.063662\n",
       "2   0.616525  0.341849 -1.020932 -1.125998 -1.060317\n",
       "7  -1.039196  0.228237 -2.107756 -1.272633 -0.837189\n",
       "11 -1.675578  0.796555  1.342759 -0.102713 -0.398467\n",
       "13  0.283476 -0.596936  0.864663 -0.964457  0.672835\n",
       "14  1.556229  0.893049 -0.422731 -1.806348  2.670318\n",
       "17  1.625067 -1.460898 -0.555522  0.221300 -0.813732\n",
       "19 -0.861862  1.318282 -0.702961  0.220646 -0.267139\n",
       "22  0.175287  0.672433 -1.021211  0.943533 -0.055009\n",
       "23 -0.494689  0.358090 -1.329082  1.241389 -0.801836"
      ]
     },
     "execution_count": 17,
     "metadata": {},
     "output_type": "execute_result"
    }
   ],
   "source": [
    "df_missing2 = df_missing.copy()\n",
    "df_missing2.dropna(inplace=True)\n",
    "df_missing2.head(10)"
   ]
  },
  {
   "cell_type": "code",
   "execution_count": 18,
   "id": "fe02c93e2a49d173",
   "metadata": {
    "ExecuteTime": {
     "end_time": "2024-02-07T20:11:52.471957136Z",
     "start_time": "2024-02-07T20:11:52.463920521Z"
    },
    "collapsed": false
   },
   "outputs": [
    {
     "data": {
      "text/plain": [
       "A    0\n",
       "B    0\n",
       "C    0\n",
       "D    0\n",
       "E    0\n",
       "dtype: int64"
      ]
     },
     "execution_count": 18,
     "metadata": {},
     "output_type": "execute_result"
    }
   ],
   "source": [
    "df_missing2.isnull().sum()"
   ]
  },
  {
   "cell_type": "code",
   "execution_count": 19,
   "id": "efb7e2d031e5db60",
   "metadata": {
    "ExecuteTime": {
     "end_time": "2024-02-07T20:11:52.927511280Z",
     "start_time": "2024-02-07T20:11:52.900586016Z"
    },
    "collapsed": false
   },
   "outputs": [
    {
     "data": {
      "text/plain": [
       "(60, 5)"
      ]
     },
     "execution_count": 19,
     "metadata": {},
     "output_type": "execute_result"
    }
   ],
   "source": [
    "df_missing2.shape"
   ]
  },
  {
   "cell_type": "markdown",
   "id": "3824a7bb0202a8fc",
   "metadata": {
    "collapsed": false
   },
   "source": [
    "### fill the missing values with the mean of the column"
   ]
  },
  {
   "cell_type": "code",
   "execution_count": 20,
   "id": "c3e47b835cfcac7e",
   "metadata": {
    "ExecuteTime": {
     "end_time": "2024-02-07T20:11:53.554500495Z",
     "start_time": "2024-02-07T20:11:53.549865906Z"
    },
    "collapsed": false
   },
   "outputs": [],
   "source": [
    "df_missing3 = df_missing.copy()\n",
    "df_missing3.fillna(df_missing3.mean(), inplace=True) \n",
    "# for the median, mode or a specific values use df_missing3.median(), df_missing3.mode() or df_missing3.fillna(0)"
   ]
  },
  {
   "cell_type": "code",
   "execution_count": 21,
   "id": "1115ba541536ee13",
   "metadata": {
    "ExecuteTime": {
     "end_time": "2024-02-07T20:11:53.849598209Z",
     "start_time": "2024-02-07T20:11:53.819883868Z"
    },
    "collapsed": false
   },
   "outputs": [
    {
     "data": {
      "text/html": [
       "<div>\n",
       "<style scoped>\n",
       "    .dataframe tbody tr th:only-of-type {\n",
       "        vertical-align: middle;\n",
       "    }\n",
       "\n",
       "    .dataframe tbody tr th {\n",
       "        vertical-align: top;\n",
       "    }\n",
       "\n",
       "    .dataframe thead th {\n",
       "        text-align: right;\n",
       "    }\n",
       "</style>\n",
       "<table border=\"1\" class=\"dataframe\">\n",
       "  <thead>\n",
       "    <tr style=\"text-align: right;\">\n",
       "      <th></th>\n",
       "      <th>A</th>\n",
       "      <th>B</th>\n",
       "      <th>C</th>\n",
       "      <th>D</th>\n",
       "      <th>E</th>\n",
       "    </tr>\n",
       "  </thead>\n",
       "  <tbody>\n",
       "    <tr>\n",
       "      <th>0</th>\n",
       "      <td>0.055540</td>\n",
       "      <td>0.128041</td>\n",
       "      <td>-0.025071</td>\n",
       "      <td>0.081219</td>\n",
       "      <td>-0.455692</td>\n",
       "    </tr>\n",
       "    <tr>\n",
       "      <th>1</th>\n",
       "      <td>-0.847524</td>\n",
       "      <td>-0.539101</td>\n",
       "      <td>0.039715</td>\n",
       "      <td>0.062924</td>\n",
       "      <td>0.063662</td>\n",
       "    </tr>\n",
       "    <tr>\n",
       "      <th>2</th>\n",
       "      <td>0.616525</td>\n",
       "      <td>0.341849</td>\n",
       "      <td>-1.020932</td>\n",
       "      <td>-1.125998</td>\n",
       "      <td>-1.060317</td>\n",
       "    </tr>\n",
       "    <tr>\n",
       "      <th>3</th>\n",
       "      <td>1.987212</td>\n",
       "      <td>0.128041</td>\n",
       "      <td>0.658694</td>\n",
       "      <td>0.703849</td>\n",
       "      <td>1.034852</td>\n",
       "    </tr>\n",
       "    <tr>\n",
       "      <th>4</th>\n",
       "      <td>0.481938</td>\n",
       "      <td>-1.527169</td>\n",
       "      <td>-0.025071</td>\n",
       "      <td>0.983536</td>\n",
       "      <td>0.062352</td>\n",
       "    </tr>\n",
       "    <tr>\n",
       "      <th>5</th>\n",
       "      <td>0.055540</td>\n",
       "      <td>-0.370082</td>\n",
       "      <td>-0.045308</td>\n",
       "      <td>0.480935</td>\n",
       "      <td>0.338193</td>\n",
       "    </tr>\n",
       "    <tr>\n",
       "      <th>6</th>\n",
       "      <td>-0.388989</td>\n",
       "      <td>0.128041</td>\n",
       "      <td>-1.381707</td>\n",
       "      <td>0.081219</td>\n",
       "      <td>1.075858</td>\n",
       "    </tr>\n",
       "    <tr>\n",
       "      <th>7</th>\n",
       "      <td>-1.039196</td>\n",
       "      <td>0.228237</td>\n",
       "      <td>-2.107756</td>\n",
       "      <td>-1.272633</td>\n",
       "      <td>-0.837189</td>\n",
       "    </tr>\n",
       "    <tr>\n",
       "      <th>8</th>\n",
       "      <td>-0.654426</td>\n",
       "      <td>-0.847466</td>\n",
       "      <td>-0.025071</td>\n",
       "      <td>-1.142761</td>\n",
       "      <td>-0.133406</td>\n",
       "    </tr>\n",
       "    <tr>\n",
       "      <th>9</th>\n",
       "      <td>1.343383</td>\n",
       "      <td>0.128041</td>\n",
       "      <td>1.898495</td>\n",
       "      <td>0.723508</td>\n",
       "      <td>0.163324</td>\n",
       "    </tr>\n",
       "  </tbody>\n",
       "</table>\n",
       "</div>"
      ],
      "text/plain": [
       "          A         B         C         D         E\n",
       "0  0.055540  0.128041 -0.025071  0.081219 -0.455692\n",
       "1 -0.847524 -0.539101  0.039715  0.062924  0.063662\n",
       "2  0.616525  0.341849 -1.020932 -1.125998 -1.060317\n",
       "3  1.987212  0.128041  0.658694  0.703849  1.034852\n",
       "4  0.481938 -1.527169 -0.025071  0.983536  0.062352\n",
       "5  0.055540 -0.370082 -0.045308  0.480935  0.338193\n",
       "6 -0.388989  0.128041 -1.381707  0.081219  1.075858\n",
       "7 -1.039196  0.228237 -2.107756 -1.272633 -0.837189\n",
       "8 -0.654426 -0.847466 -0.025071 -1.142761 -0.133406\n",
       "9  1.343383  0.128041  1.898495  0.723508  0.163324"
      ]
     },
     "execution_count": 21,
     "metadata": {},
     "output_type": "execute_result"
    }
   ],
   "source": [
    "df_missing3.head(10)"
   ]
  },
  {
   "cell_type": "code",
   "execution_count": 22,
   "id": "8eecccd9e494bfa1",
   "metadata": {
    "ExecuteTime": {
     "end_time": "2024-02-07T20:11:54.240718484Z",
     "start_time": "2024-02-07T20:11:54.235426356Z"
    },
    "collapsed": false
   },
   "outputs": [
    {
     "data": {
      "text/plain": [
       "A    0\n",
       "B    0\n",
       "C    0\n",
       "D    0\n",
       "E    0\n",
       "dtype: int64"
      ]
     },
     "execution_count": 22,
     "metadata": {},
     "output_type": "execute_result"
    }
   ],
   "source": [
    "df_missing3.isnull().sum()"
   ]
  },
  {
   "cell_type": "code",
   "execution_count": 23,
   "id": "ce6dd370613d552a",
   "metadata": {
    "ExecuteTime": {
     "end_time": "2024-02-07T20:11:54.736354393Z",
     "start_time": "2024-02-07T20:11:54.724179698Z"
    },
    "collapsed": false
   },
   "outputs": [
    {
     "data": {
      "text/plain": [
       "(150, 5)"
      ]
     },
     "execution_count": 23,
     "metadata": {},
     "output_type": "execute_result"
    }
   ],
   "source": [
    "df_missing3.shape"
   ]
  },
  {
   "cell_type": "code",
   "execution_count": 24,
   "id": "c34cb735a29a6ea7",
   "metadata": {
    "ExecuteTime": {
     "end_time": "2024-02-07T20:11:55.139197865Z",
     "start_time": "2024-02-07T20:11:55.112224581Z"
    },
    "collapsed": false
   },
   "outputs": [
    {
     "data": {
      "text/html": [
       "<div>\n",
       "<style scoped>\n",
       "    .dataframe tbody tr th:only-of-type {\n",
       "        vertical-align: middle;\n",
       "    }\n",
       "\n",
       "    .dataframe tbody tr th {\n",
       "        vertical-align: top;\n",
       "    }\n",
       "\n",
       "    .dataframe thead th {\n",
       "        text-align: right;\n",
       "    }\n",
       "</style>\n",
       "<table border=\"1\" class=\"dataframe\">\n",
       "  <thead>\n",
       "    <tr style=\"text-align: right;\">\n",
       "      <th></th>\n",
       "      <th>A</th>\n",
       "      <th>B</th>\n",
       "      <th>C</th>\n",
       "      <th>D</th>\n",
       "      <th>E</th>\n",
       "    </tr>\n",
       "  </thead>\n",
       "  <tbody>\n",
       "    <tr>\n",
       "      <th>count</th>\n",
       "      <td>150.000000</td>\n",
       "      <td>150.000000</td>\n",
       "      <td>150.000000</td>\n",
       "      <td>150.000000</td>\n",
       "      <td>150.000000</td>\n",
       "    </tr>\n",
       "    <tr>\n",
       "      <th>mean</th>\n",
       "      <td>0.055540</td>\n",
       "      <td>0.128041</td>\n",
       "      <td>-0.025071</td>\n",
       "      <td>0.081219</td>\n",
       "      <td>0.040525</td>\n",
       "    </tr>\n",
       "    <tr>\n",
       "      <th>std</th>\n",
       "      <td>0.867819</td>\n",
       "      <td>0.818251</td>\n",
       "      <td>0.933839</td>\n",
       "      <td>0.869466</td>\n",
       "      <td>0.960444</td>\n",
       "    </tr>\n",
       "    <tr>\n",
       "      <th>min</th>\n",
       "      <td>-2.154478</td>\n",
       "      <td>-2.729418</td>\n",
       "      <td>-3.179536</td>\n",
       "      <td>-2.337839</td>\n",
       "      <td>-2.236438</td>\n",
       "    </tr>\n",
       "    <tr>\n",
       "      <th>25%</th>\n",
       "      <td>-0.387863</td>\n",
       "      <td>-0.189987</td>\n",
       "      <td>-0.480136</td>\n",
       "      <td>-0.298749</td>\n",
       "      <td>-0.601209</td>\n",
       "    </tr>\n",
       "    <tr>\n",
       "      <th>50%</th>\n",
       "      <td>0.055540</td>\n",
       "      <td>0.128041</td>\n",
       "      <td>-0.025071</td>\n",
       "      <td>0.081219</td>\n",
       "      <td>0.018553</td>\n",
       "    </tr>\n",
       "    <tr>\n",
       "      <th>75%</th>\n",
       "      <td>0.566340</td>\n",
       "      <td>0.486843</td>\n",
       "      <td>0.346621</td>\n",
       "      <td>0.589297</td>\n",
       "      <td>0.671198</td>\n",
       "    </tr>\n",
       "    <tr>\n",
       "      <th>max</th>\n",
       "      <td>2.573037</td>\n",
       "      <td>2.728873</td>\n",
       "      <td>2.714967</td>\n",
       "      <td>2.930326</td>\n",
       "      <td>2.670318</td>\n",
       "    </tr>\n",
       "  </tbody>\n",
       "</table>\n",
       "</div>"
      ],
      "text/plain": [
       "                A           B           C           D           E\n",
       "count  150.000000  150.000000  150.000000  150.000000  150.000000\n",
       "mean     0.055540    0.128041   -0.025071    0.081219    0.040525\n",
       "std      0.867819    0.818251    0.933839    0.869466    0.960444\n",
       "min     -2.154478   -2.729418   -3.179536   -2.337839   -2.236438\n",
       "25%     -0.387863   -0.189987   -0.480136   -0.298749   -0.601209\n",
       "50%      0.055540    0.128041   -0.025071    0.081219    0.018553\n",
       "75%      0.566340    0.486843    0.346621    0.589297    0.671198\n",
       "max      2.573037    2.728873    2.714967    2.930326    2.670318"
      ]
     },
     "execution_count": 24,
     "metadata": {},
     "output_type": "execute_result"
    }
   ],
   "source": [
    "df_missing3.describe()"
   ]
  },
  {
   "cell_type": "markdown",
   "id": "6ff2e007863d7cc2",
   "metadata": {
    "collapsed": false
   },
   "source": [
    "# Data inputation with sklearn"
   ]
  },
  {
   "cell_type": "code",
   "execution_count": 25,
   "id": "b6cc913d35915f45",
   "metadata": {
    "ExecuteTime": {
     "end_time": "2024-02-07T20:11:56.712212836Z",
     "start_time": "2024-02-07T20:11:56.000747406Z"
    },
    "collapsed": false
   },
   "outputs": [],
   "source": [
    "from sklearn.impute import SimpleImputer, KNNImputer"
   ]
  },
  {
   "cell_type": "code",
   "execution_count": 26,
   "id": "191a601f083b8767",
   "metadata": {
    "ExecuteTime": {
     "end_time": "2024-02-07T20:11:56.757430432Z",
     "start_time": "2024-02-07T20:11:56.713781513Z"
    },
    "collapsed": false
   },
   "outputs": [],
   "source": [
    "df_sklearn = df_missing.copy()"
   ]
  },
  {
   "cell_type": "markdown",
   "id": "70320f7b41150970",
   "metadata": {
    "collapsed": false
   },
   "source": [
    "### SimpleImputer is a basic strategy to impute missing values using the mean, median or most frequent value of the column"
   ]
  },
  {
   "cell_type": "code",
   "execution_count": 27,
   "id": "fc2516c18a21a513",
   "metadata": {
    "ExecuteTime": {
     "end_time": "2024-02-07T20:11:57.117488410Z",
     "start_time": "2024-02-07T20:11:57.086326375Z"
    },
    "collapsed": false
   },
   "outputs": [
    {
     "data": {
      "text/html": [
       "<div>\n",
       "<style scoped>\n",
       "    .dataframe tbody tr th:only-of-type {\n",
       "        vertical-align: middle;\n",
       "    }\n",
       "\n",
       "    .dataframe tbody tr th {\n",
       "        vertical-align: top;\n",
       "    }\n",
       "\n",
       "    .dataframe thead th {\n",
       "        text-align: right;\n",
       "    }\n",
       "</style>\n",
       "<table border=\"1\" class=\"dataframe\">\n",
       "  <thead>\n",
       "    <tr style=\"text-align: right;\">\n",
       "      <th></th>\n",
       "      <th>A</th>\n",
       "      <th>B</th>\n",
       "      <th>C</th>\n",
       "      <th>D</th>\n",
       "      <th>E</th>\n",
       "    </tr>\n",
       "  </thead>\n",
       "  <tbody>\n",
       "    <tr>\n",
       "      <th>0</th>\n",
       "      <td>0.055540</td>\n",
       "      <td>0.128041</td>\n",
       "      <td>-0.025071</td>\n",
       "      <td>0.081219</td>\n",
       "      <td>-0.455692</td>\n",
       "    </tr>\n",
       "    <tr>\n",
       "      <th>1</th>\n",
       "      <td>-0.847524</td>\n",
       "      <td>-0.539101</td>\n",
       "      <td>0.039715</td>\n",
       "      <td>0.062924</td>\n",
       "      <td>0.063662</td>\n",
       "    </tr>\n",
       "    <tr>\n",
       "      <th>2</th>\n",
       "      <td>0.616525</td>\n",
       "      <td>0.341849</td>\n",
       "      <td>-1.020932</td>\n",
       "      <td>-1.125998</td>\n",
       "      <td>-1.060317</td>\n",
       "    </tr>\n",
       "    <tr>\n",
       "      <th>3</th>\n",
       "      <td>1.987212</td>\n",
       "      <td>0.128041</td>\n",
       "      <td>0.658694</td>\n",
       "      <td>0.703849</td>\n",
       "      <td>1.034852</td>\n",
       "    </tr>\n",
       "    <tr>\n",
       "      <th>4</th>\n",
       "      <td>0.481938</td>\n",
       "      <td>-1.527169</td>\n",
       "      <td>-0.025071</td>\n",
       "      <td>0.983536</td>\n",
       "      <td>0.062352</td>\n",
       "    </tr>\n",
       "    <tr>\n",
       "      <th>...</th>\n",
       "      <td>...</td>\n",
       "      <td>...</td>\n",
       "      <td>...</td>\n",
       "      <td>...</td>\n",
       "      <td>...</td>\n",
       "    </tr>\n",
       "    <tr>\n",
       "      <th>145</th>\n",
       "      <td>0.055540</td>\n",
       "      <td>0.065341</td>\n",
       "      <td>-1.279443</td>\n",
       "      <td>-2.184804</td>\n",
       "      <td>-0.073396</td>\n",
       "    </tr>\n",
       "    <tr>\n",
       "      <th>146</th>\n",
       "      <td>0.427174</td>\n",
       "      <td>-0.197033</td>\n",
       "      <td>-0.402172</td>\n",
       "      <td>-0.287067</td>\n",
       "      <td>-0.358000</td>\n",
       "    </tr>\n",
       "    <tr>\n",
       "      <th>147</th>\n",
       "      <td>-0.606441</td>\n",
       "      <td>0.128041</td>\n",
       "      <td>-1.262994</td>\n",
       "      <td>-0.364245</td>\n",
       "      <td>0.202697</td>\n",
       "    </tr>\n",
       "    <tr>\n",
       "      <th>148</th>\n",
       "      <td>0.500573</td>\n",
       "      <td>0.449947</td>\n",
       "      <td>-0.025071</td>\n",
       "      <td>0.297096</td>\n",
       "      <td>1.465195</td>\n",
       "    </tr>\n",
       "    <tr>\n",
       "      <th>149</th>\n",
       "      <td>-0.238047</td>\n",
       "      <td>0.873605</td>\n",
       "      <td>-0.637022</td>\n",
       "      <td>1.362326</td>\n",
       "      <td>0.582715</td>\n",
       "    </tr>\n",
       "  </tbody>\n",
       "</table>\n",
       "<p>150 rows × 5 columns</p>\n",
       "</div>"
      ],
      "text/plain": [
       "            A         B         C         D         E\n",
       "0    0.055540  0.128041 -0.025071  0.081219 -0.455692\n",
       "1   -0.847524 -0.539101  0.039715  0.062924  0.063662\n",
       "2    0.616525  0.341849 -1.020932 -1.125998 -1.060317\n",
       "3    1.987212  0.128041  0.658694  0.703849  1.034852\n",
       "4    0.481938 -1.527169 -0.025071  0.983536  0.062352\n",
       "..        ...       ...       ...       ...       ...\n",
       "145  0.055540  0.065341 -1.279443 -2.184804 -0.073396\n",
       "146  0.427174 -0.197033 -0.402172 -0.287067 -0.358000\n",
       "147 -0.606441  0.128041 -1.262994 -0.364245  0.202697\n",
       "148  0.500573  0.449947 -0.025071  0.297096  1.465195\n",
       "149 -0.238047  0.873605 -0.637022  1.362326  0.582715\n",
       "\n",
       "[150 rows x 5 columns]"
      ]
     },
     "execution_count": 27,
     "metadata": {},
     "output_type": "execute_result"
    }
   ],
   "source": [
    "imputer = SimpleImputer(strategy='mean') # or 'median' or 'most_frequent'\n",
    "data_imputed = imputer.fit_transform(df_sklearn)\n",
    "data_imputed = pd.DataFrame(data_imputed, columns=df_sklearn.columns)\n",
    "data_imputed"
   ]
  },
  {
   "cell_type": "code",
   "execution_count": 28,
   "id": "fd603df83d5f4a80",
   "metadata": {
    "ExecuteTime": {
     "end_time": "2024-02-07T20:11:57.692487950Z",
     "start_time": "2024-02-07T20:11:57.669839424Z"
    },
    "collapsed": false
   },
   "outputs": [
    {
     "data": {
      "text/plain": [
       "A    0\n",
       "B    0\n",
       "C    0\n",
       "D    0\n",
       "E    0\n",
       "dtype: int64"
      ]
     },
     "execution_count": 28,
     "metadata": {},
     "output_type": "execute_result"
    }
   ],
   "source": [
    "data_imputed.isnull().sum()"
   ]
  },
  {
   "cell_type": "markdown",
   "id": "28a5ddf144837ec6",
   "metadata": {
    "collapsed": false
   },
   "source": [
    "## KNNImputer is a more advanced strategy that uses the k-nearest neighbors to impute missing values based on the similarity of the samples in the feature space."
   ]
  },
  {
   "cell_type": "code",
   "execution_count": 29,
   "id": "bd8c4611576acbc9",
   "metadata": {
    "ExecuteTime": {
     "end_time": "2024-02-07T20:13:04.362369072Z",
     "start_time": "2024-02-07T20:13:04.333051088Z"
    },
    "collapsed": false
   },
   "outputs": [
    {
     "data": {
      "text/html": [
       "<div>\n",
       "<style scoped>\n",
       "    .dataframe tbody tr th:only-of-type {\n",
       "        vertical-align: middle;\n",
       "    }\n",
       "\n",
       "    .dataframe tbody tr th {\n",
       "        vertical-align: top;\n",
       "    }\n",
       "\n",
       "    .dataframe thead th {\n",
       "        text-align: right;\n",
       "    }\n",
       "</style>\n",
       "<table border=\"1\" class=\"dataframe\">\n",
       "  <thead>\n",
       "    <tr style=\"text-align: right;\">\n",
       "      <th></th>\n",
       "      <th>A</th>\n",
       "      <th>B</th>\n",
       "      <th>C</th>\n",
       "      <th>D</th>\n",
       "      <th>E</th>\n",
       "    </tr>\n",
       "  </thead>\n",
       "  <tbody>\n",
       "    <tr>\n",
       "      <th>0</th>\n",
       "      <td>-0.788363</td>\n",
       "      <td>0.591292</td>\n",
       "      <td>0.832302</td>\n",
       "      <td>0.063763</td>\n",
       "      <td>-0.455692</td>\n",
       "    </tr>\n",
       "    <tr>\n",
       "      <th>1</th>\n",
       "      <td>-0.847524</td>\n",
       "      <td>-0.539101</td>\n",
       "      <td>0.039715</td>\n",
       "      <td>0.062924</td>\n",
       "      <td>0.063662</td>\n",
       "    </tr>\n",
       "    <tr>\n",
       "      <th>2</th>\n",
       "      <td>0.616525</td>\n",
       "      <td>0.341849</td>\n",
       "      <td>-1.020932</td>\n",
       "      <td>-1.125998</td>\n",
       "      <td>-1.060317</td>\n",
       "    </tr>\n",
       "    <tr>\n",
       "      <th>3</th>\n",
       "      <td>1.987212</td>\n",
       "      <td>0.913885</td>\n",
       "      <td>0.658694</td>\n",
       "      <td>0.703849</td>\n",
       "      <td>1.034852</td>\n",
       "    </tr>\n",
       "    <tr>\n",
       "      <th>4</th>\n",
       "      <td>0.481938</td>\n",
       "      <td>-1.527169</td>\n",
       "      <td>-1.297398</td>\n",
       "      <td>0.983536</td>\n",
       "      <td>0.062352</td>\n",
       "    </tr>\n",
       "    <tr>\n",
       "      <th>...</th>\n",
       "      <td>...</td>\n",
       "      <td>...</td>\n",
       "      <td>...</td>\n",
       "      <td>...</td>\n",
       "      <td>...</td>\n",
       "    </tr>\n",
       "    <tr>\n",
       "      <th>145</th>\n",
       "      <td>1.260412</td>\n",
       "      <td>0.065341</td>\n",
       "      <td>-1.279443</td>\n",
       "      <td>-2.184804</td>\n",
       "      <td>-0.073396</td>\n",
       "    </tr>\n",
       "    <tr>\n",
       "      <th>146</th>\n",
       "      <td>0.427174</td>\n",
       "      <td>-0.197033</td>\n",
       "      <td>-0.402172</td>\n",
       "      <td>-0.287067</td>\n",
       "      <td>-0.358000</td>\n",
       "    </tr>\n",
       "    <tr>\n",
       "      <th>147</th>\n",
       "      <td>-0.606441</td>\n",
       "      <td>0.464178</td>\n",
       "      <td>-1.262994</td>\n",
       "      <td>-0.364245</td>\n",
       "      <td>0.202697</td>\n",
       "    </tr>\n",
       "    <tr>\n",
       "      <th>148</th>\n",
       "      <td>0.500573</td>\n",
       "      <td>0.449947</td>\n",
       "      <td>0.777387</td>\n",
       "      <td>0.297096</td>\n",
       "      <td>1.465195</td>\n",
       "    </tr>\n",
       "    <tr>\n",
       "      <th>149</th>\n",
       "      <td>-0.238047</td>\n",
       "      <td>0.873605</td>\n",
       "      <td>-0.637022</td>\n",
       "      <td>1.362326</td>\n",
       "      <td>0.582715</td>\n",
       "    </tr>\n",
       "  </tbody>\n",
       "</table>\n",
       "<p>150 rows × 5 columns</p>\n",
       "</div>"
      ],
      "text/plain": [
       "            A         B         C         D         E\n",
       "0   -0.788363  0.591292  0.832302  0.063763 -0.455692\n",
       "1   -0.847524 -0.539101  0.039715  0.062924  0.063662\n",
       "2    0.616525  0.341849 -1.020932 -1.125998 -1.060317\n",
       "3    1.987212  0.913885  0.658694  0.703849  1.034852\n",
       "4    0.481938 -1.527169 -1.297398  0.983536  0.062352\n",
       "..        ...       ...       ...       ...       ...\n",
       "145  1.260412  0.065341 -1.279443 -2.184804 -0.073396\n",
       "146  0.427174 -0.197033 -0.402172 -0.287067 -0.358000\n",
       "147 -0.606441  0.464178 -1.262994 -0.364245  0.202697\n",
       "148  0.500573  0.449947  0.777387  0.297096  1.465195\n",
       "149 -0.238047  0.873605 -0.637022  1.362326  0.582715\n",
       "\n",
       "[150 rows x 5 columns]"
      ]
     },
     "execution_count": 29,
     "metadata": {},
     "output_type": "execute_result"
    }
   ],
   "source": [
    "knn_imputer = KNNImputer(n_neighbors=3)\n",
    "fake_y = np.random.randint(0, 2, size=(150, 1))\n",
    "data_imputed = knn_imputer.fit_transform(df_sklearn, fake_y)\n",
    "data_imputed = pd.DataFrame(data_imputed, columns=df_sklearn.columns)\n",
    "data_imputed"
   ]
  },
  {
   "cell_type": "code",
   "execution_count": 30,
   "id": "3cdafd4c446a58b9",
   "metadata": {
    "ExecuteTime": {
     "end_time": "2024-02-07T20:13:06.745366525Z",
     "start_time": "2024-02-07T20:13:06.724015300Z"
    },
    "collapsed": false
   },
   "outputs": [
    {
     "data": {
      "text/plain": [
       "A    0\n",
       "B    0\n",
       "C    0\n",
       "D    0\n",
       "E    0\n",
       "dtype: int64"
      ]
     },
     "execution_count": 30,
     "metadata": {},
     "output_type": "execute_result"
    }
   ],
   "source": [
    "data_imputed.isnull().sum()"
   ]
  },
  {
   "cell_type": "code",
   "execution_count": 31,
   "id": "8943f4d6d15bfaad",
   "metadata": {
    "ExecuteTime": {
     "end_time": "2024-02-07T20:13:08.442993758Z",
     "start_time": "2024-02-07T20:13:08.414904340Z"
    },
    "collapsed": false
   },
   "outputs": [
    {
     "data": {
      "text/html": [
       "<div>\n",
       "<style scoped>\n",
       "    .dataframe tbody tr th:only-of-type {\n",
       "        vertical-align: middle;\n",
       "    }\n",
       "\n",
       "    .dataframe tbody tr th {\n",
       "        vertical-align: top;\n",
       "    }\n",
       "\n",
       "    .dataframe thead th {\n",
       "        text-align: right;\n",
       "    }\n",
       "</style>\n",
       "<table border=\"1\" class=\"dataframe\">\n",
       "  <thead>\n",
       "    <tr style=\"text-align: right;\">\n",
       "      <th></th>\n",
       "      <th>A</th>\n",
       "      <th>B</th>\n",
       "      <th>C</th>\n",
       "      <th>D</th>\n",
       "      <th>E</th>\n",
       "    </tr>\n",
       "  </thead>\n",
       "  <tbody>\n",
       "    <tr>\n",
       "      <th>count</th>\n",
       "      <td>150.000000</td>\n",
       "      <td>150.000000</td>\n",
       "      <td>150.000000</td>\n",
       "      <td>150.000000</td>\n",
       "      <td>150.000000</td>\n",
       "    </tr>\n",
       "    <tr>\n",
       "      <th>mean</th>\n",
       "      <td>0.083549</td>\n",
       "      <td>0.177379</td>\n",
       "      <td>-0.013362</td>\n",
       "      <td>0.069204</td>\n",
       "      <td>0.040525</td>\n",
       "    </tr>\n",
       "    <tr>\n",
       "      <th>std</th>\n",
       "      <td>0.901625</td>\n",
       "      <td>0.876712</td>\n",
       "      <td>1.008644</td>\n",
       "      <td>0.887972</td>\n",
       "      <td>0.960444</td>\n",
       "    </tr>\n",
       "    <tr>\n",
       "      <th>min</th>\n",
       "      <td>-2.154478</td>\n",
       "      <td>-2.729418</td>\n",
       "      <td>-3.179536</td>\n",
       "      <td>-2.337839</td>\n",
       "      <td>-2.236438</td>\n",
       "    </tr>\n",
       "    <tr>\n",
       "      <th>25%</th>\n",
       "      <td>-0.469098</td>\n",
       "      <td>-0.435807</td>\n",
       "      <td>-0.671349</td>\n",
       "      <td>-0.402090</td>\n",
       "      <td>-0.601209</td>\n",
       "    </tr>\n",
       "    <tr>\n",
       "      <th>50%</th>\n",
       "      <td>0.086526</td>\n",
       "      <td>0.223587</td>\n",
       "      <td>-0.005537</td>\n",
       "      <td>0.088170</td>\n",
       "      <td>0.018553</td>\n",
       "    </tr>\n",
       "    <tr>\n",
       "      <th>75%</th>\n",
       "      <td>0.642184</td>\n",
       "      <td>0.705108</td>\n",
       "      <td>0.697636</td>\n",
       "      <td>0.637274</td>\n",
       "      <td>0.671198</td>\n",
       "    </tr>\n",
       "    <tr>\n",
       "      <th>max</th>\n",
       "      <td>2.573037</td>\n",
       "      <td>2.728873</td>\n",
       "      <td>2.714967</td>\n",
       "      <td>2.930326</td>\n",
       "      <td>2.670318</td>\n",
       "    </tr>\n",
       "  </tbody>\n",
       "</table>\n",
       "</div>"
      ],
      "text/plain": [
       "                A           B           C           D           E\n",
       "count  150.000000  150.000000  150.000000  150.000000  150.000000\n",
       "mean     0.083549    0.177379   -0.013362    0.069204    0.040525\n",
       "std      0.901625    0.876712    1.008644    0.887972    0.960444\n",
       "min     -2.154478   -2.729418   -3.179536   -2.337839   -2.236438\n",
       "25%     -0.469098   -0.435807   -0.671349   -0.402090   -0.601209\n",
       "50%      0.086526    0.223587   -0.005537    0.088170    0.018553\n",
       "75%      0.642184    0.705108    0.697636    0.637274    0.671198\n",
       "max      2.573037    2.728873    2.714967    2.930326    2.670318"
      ]
     },
     "execution_count": 31,
     "metadata": {},
     "output_type": "execute_result"
    }
   ],
   "source": [
    "data_imputed.describe()"
   ]
  },
  {
   "cell_type": "code",
   "execution_count": null,
   "id": "bf813da86d691dae",
   "metadata": {
    "collapsed": false
   },
   "outputs": [],
   "source": []
  }
 ],
 "metadata": {
  "kernelspec": {
   "display_name": "Python 3",
   "language": "python",
   "name": "python3"
  },
  "language_info": {
   "codemirror_mode": {
    "name": "ipython",
    "version": 2
   },
   "file_extension": ".py",
   "mimetype": "text/x-python",
   "name": "python",
   "nbconvert_exporter": "python",
   "pygments_lexer": "ipython2",
   "version": "2.7.6"
  }
 },
 "nbformat": 4,
 "nbformat_minor": 5
}
